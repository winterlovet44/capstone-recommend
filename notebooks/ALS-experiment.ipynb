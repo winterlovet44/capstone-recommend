{
 "cells": [
  {
   "cell_type": "markdown",
   "id": "5b932ccc",
   "metadata": {},
   "source": [
    "## Alternating Least Squares\n",
    "\n",
    "In this notebook, i will try to implement and tuning model ALS (implemented from implicit) with Movielens 1M dataset. And, I use Mean Average precision at k and precision at k to evaluate this model.\n",
    "\n",
    "**Alternating Least Squares**: a matrix factorization approach in recommender system. ALS try to decompose the rating matrix **R** into two factors **U** and **V** such that $R \\approx U^T.V$.\n",
    "\n",
    "\n",
    "**Precision at k**: How many relevant items are present in the top-k recommendations of your system. The higher the better.\n",
    "\n",
    "\n",
    "**Mean average precision at k**: The mean of P@k for all user. The higher the better.\n",
    "\n",
    "**Root Mean Squares Error**: Compute different between prediction rating and true rating. The lower the better."
   ]
  },
  {
   "cell_type": "code",
   "execution_count": 1,
   "id": "04304032",
   "metadata": {},
   "outputs": [],
   "source": [
    "import os\n",
    "import sys\n",
    "import pathlib"
   ]
  },
  {
   "cell_type": "code",
   "execution_count": 2,
   "id": "a00bbd9d",
   "metadata": {},
   "outputs": [],
   "source": [
    "os.environ[\"MKL_NUM_THREADS\"] = \"1\"\n",
    "os.environ[\"OPENBLAS_NUM_THREADS\"] = \"1\""
   ]
  },
  {
   "cell_type": "code",
   "execution_count": 3,
   "id": "59463c95",
   "metadata": {},
   "outputs": [],
   "source": [
    "parent = pathlib.Path(os.getcwd()).parent\n",
    "sys.path.append(str(parent))"
   ]
  },
  {
   "cell_type": "code",
   "execution_count": 4,
   "id": "e15f1ff6",
   "metadata": {},
   "outputs": [],
   "source": [
    "import pandas as pd\n",
    "import numpy as np\n",
    "from implicit import evaluation\n",
    "from sklearn.model_selection import train_test_split"
   ]
  },
  {
   "cell_type": "code",
   "execution_count": 5,
   "id": "0456adc7",
   "metadata": {},
   "outputs": [],
   "source": [
    "from implicit.als import AlternatingLeastSquares\n",
    "from recommend.dataset import Dataset\n",
    "from utils.util import save_model, load_model"
   ]
  },
  {
   "cell_type": "code",
   "execution_count": 6,
   "id": "033d963a",
   "metadata": {},
   "outputs": [],
   "source": [
    "rating = pd.read_csv(\"../data/rating.csv\", index_col=0)"
   ]
  },
  {
   "cell_type": "code",
   "execution_count": 7,
   "id": "190064c8",
   "metadata": {},
   "outputs": [
    {
     "data": {
      "text/html": [
       "<div>\n",
       "<style scoped>\n",
       "    .dataframe tbody tr th:only-of-type {\n",
       "        vertical-align: middle;\n",
       "    }\n",
       "\n",
       "    .dataframe tbody tr th {\n",
       "        vertical-align: top;\n",
       "    }\n",
       "\n",
       "    .dataframe thead th {\n",
       "        text-align: right;\n",
       "    }\n",
       "</style>\n",
       "<table border=\"1\" class=\"dataframe\">\n",
       "  <thead>\n",
       "    <tr style=\"text-align: right;\">\n",
       "      <th></th>\n",
       "      <th>UserID</th>\n",
       "      <th>MovieID</th>\n",
       "      <th>Rating</th>\n",
       "    </tr>\n",
       "  </thead>\n",
       "  <tbody>\n",
       "    <tr>\n",
       "      <th>0</th>\n",
       "      <td>1</td>\n",
       "      <td>1193</td>\n",
       "      <td>5</td>\n",
       "    </tr>\n",
       "    <tr>\n",
       "      <th>1</th>\n",
       "      <td>1</td>\n",
       "      <td>661</td>\n",
       "      <td>3</td>\n",
       "    </tr>\n",
       "    <tr>\n",
       "      <th>2</th>\n",
       "      <td>1</td>\n",
       "      <td>914</td>\n",
       "      <td>3</td>\n",
       "    </tr>\n",
       "    <tr>\n",
       "      <th>3</th>\n",
       "      <td>1</td>\n",
       "      <td>3408</td>\n",
       "      <td>4</td>\n",
       "    </tr>\n",
       "    <tr>\n",
       "      <th>4</th>\n",
       "      <td>1</td>\n",
       "      <td>2355</td>\n",
       "      <td>5</td>\n",
       "    </tr>\n",
       "  </tbody>\n",
       "</table>\n",
       "</div>"
      ],
      "text/plain": [
       "   UserID  MovieID  Rating\n",
       "0       1     1193       5\n",
       "1       1      661       3\n",
       "2       1      914       3\n",
       "3       1     3408       4\n",
       "4       1     2355       5"
      ]
     },
     "execution_count": 7,
     "metadata": {},
     "output_type": "execute_result"
    }
   ],
   "source": [
    "rating.head()"
   ]
  },
  {
   "cell_type": "code",
   "execution_count": 8,
   "id": "64886de4",
   "metadata": {},
   "outputs": [
    {
     "data": {
      "text/plain": [
       "UserID     6040\n",
       "MovieID    3706\n",
       "Rating        5\n",
       "dtype: int64"
      ]
     },
     "execution_count": 8,
     "metadata": {},
     "output_type": "execute_result"
    }
   ],
   "source": [
    "rating.nunique()"
   ]
  },
  {
   "cell_type": "code",
   "execution_count": 9,
   "id": "8f13b913",
   "metadata": {},
   "outputs": [],
   "source": [
    "ds_train = Dataset(rating, user=\"UserID\", item=\"MovieID\", rating=\"Rating\")\n",
    "# ds_test = Dataset(train_df, user=\"UserID\", item=\"MovieID\", rating=\"Rating\")"
   ]
  },
  {
   "cell_type": "markdown",
   "id": "20cfdbd5",
   "metadata": {},
   "source": [
    "### Train test split\n",
    "In Recommender system, when split data for train test, be carefully with some item/user only have once rated. make sure that number of item/user in train dataset is equal to origin data"
   ]
  },
  {
   "cell_type": "code",
   "execution_count": 10,
   "id": "2a87a4a0",
   "metadata": {},
   "outputs": [],
   "source": [
    "# Train test split, let split by 0.95 and 0.05\n",
    "train_df, test_df = evaluation.train_test_split(ds_train.get_csr(), train_percentage=.95)"
   ]
  },
  {
   "cell_type": "code",
   "execution_count": 11,
   "id": "8d64a2b8",
   "metadata": {},
   "outputs": [
    {
     "data": {
      "text/plain": [
       "<6040x3706 sparse matrix of type '<class 'numpy.float32'>'\n",
       "\twith 949990 stored elements in Compressed Sparse Row format>"
      ]
     },
     "execution_count": 11,
     "metadata": {},
     "output_type": "execute_result"
    }
   ],
   "source": [
    "train_df"
   ]
  },
  {
   "cell_type": "code",
   "execution_count": 12,
   "id": "d0fdda66",
   "metadata": {},
   "outputs": [
    {
     "data": {
      "text/plain": [
       "array([5., 5., 4., ..., 1., 4., 2.], dtype=float32)"
      ]
     },
     "execution_count": 12,
     "metadata": {},
     "output_type": "execute_result"
    }
   ],
   "source": [
    "test_df.data"
   ]
  },
  {
   "cell_type": "code",
   "execution_count": 13,
   "id": "0577e311",
   "metadata": {},
   "outputs": [],
   "source": [
    "from sklearn.metrics import mean_absolute_error, mean_squared_error"
   ]
  },
  {
   "cell_type": "markdown",
   "id": "eb85e98f",
   "metadata": {},
   "source": [
    "### Experiment model with number of latent factor is 100"
   ]
  },
  {
   "cell_type": "code",
   "execution_count": 12,
   "id": "ca1d63bc",
   "metadata": {},
   "outputs": [],
   "source": [
    "# Initialize model, let numbers of latent factors is 100 (default)\n",
    "als = AlternatingLeastSquares(num_threads=1, random_state=1)"
   ]
  },
  {
   "cell_type": "code",
   "execution_count": 13,
   "id": "50f39f3a",
   "metadata": {},
   "outputs": [
    {
     "data": {
      "application/vnd.jupyter.widget-view+json": {
       "model_id": "606e1da473ee4b879a70f8215dec0e72",
       "version_major": 2,
       "version_minor": 0
      },
      "text/plain": [
       "  0%|          | 0/15 [00:00<?, ?it/s]"
      ]
     },
     "metadata": {},
     "output_type": "display_data"
    }
   ],
   "source": [
    "als.fit(train_df)"
   ]
  },
  {
   "cell_type": "markdown",
   "id": "0ad914a9",
   "metadata": {},
   "source": [
    "#### Performance RMSE of model\n",
    "To compute RMSE, we need:\n",
    "\n",
    "- Compute prediction rating matrix from user factor and item factor\n",
    "- Get user index and item index contains in test data\n",
    "- From index, we get true rating and store it in an array\n",
    "- From index, we get predict rating and store it in another array\n",
    "- Use sklearn.metrics.mean_squared_error to compute MSE of prediction\n",
    "- Call sqrt to get RMSE"
   ]
  },
  {
   "cell_type": "code",
   "execution_count": 27,
   "id": "815dc746",
   "metadata": {},
   "outputs": [],
   "source": [
    "# Compute prediction rating matrix\n",
    "rev_matrix = als.user_factors.dot(als.item_factors.T)"
   ]
  },
  {
   "cell_type": "code",
   "execution_count": 37,
   "id": "6fcb5778",
   "metadata": {},
   "outputs": [],
   "source": [
    "# True rating of test data store in test_df.data (CSR sparse matrix) or in rating matrix if you stored it in dataframe\n",
    "uidx, iidx = test_df.nonzero() # User idex and item index is nonzero value of matrix\n",
    "# Get prediction of rating from prediction matrix and index\n",
    "predict = rev_matrix[uidx, iidx]"
   ]
  },
  {
   "cell_type": "code",
   "execution_count": 38,
   "id": "81692db9",
   "metadata": {
    "scrolled": true
   },
   "outputs": [
    {
     "name": "stdout",
     "output_type": "stream",
     "text": [
      "RMSE of ALS is 3.214193820953369\n"
     ]
    }
   ],
   "source": [
    "# Call sqrt and mse to get RMSE of model\n",
    "als_rmse = np.sqrt(mean_squared_error(predict, test_df.data))\n",
    "print(f\"RMSE of ALS is {als_rmse}\")"
   ]
  },
  {
   "cell_type": "code",
   "execution_count": 43,
   "id": "8856abde",
   "metadata": {},
   "outputs": [
    {
     "data": {
      "application/vnd.jupyter.widget-view+json": {
       "model_id": "1f0ab51a8683498a8926f562ed272abb",
       "version_major": 2,
       "version_minor": 0
      },
      "text/plain": [
       "  0%|          | 0/5627 [00:00<?, ?it/s]"
      ]
     },
     "metadata": {},
     "output_type": "display_data"
    },
    {
     "name": "stdout",
     "output_type": "stream",
     "text": [
      "MAP@k of ALS is 0.12102710341157799\n"
     ]
    }
   ],
   "source": [
    "# Calculate MAP@k of ALS model\n",
    "print(f\"MAP@k of ALS is {evaluation.mean_average_precision_at_k(als, train_df, test_df)}\")"
   ]
  },
  {
   "cell_type": "code",
   "execution_count": 44,
   "id": "9a49323f",
   "metadata": {
    "scrolled": true
   },
   "outputs": [
    {
     "data": {
      "application/vnd.jupyter.widget-view+json": {
       "model_id": "031ed4e6fe4d4350a59b07cbbb30c313",
       "version_major": 2,
       "version_minor": 0
      },
      "text/plain": [
       "  0%|          | 0/5627 [00:00<?, ?it/s]"
      ]
     },
     "metadata": {},
     "output_type": "display_data"
    },
    {
     "name": "stdout",
     "output_type": "stream",
     "text": [
      "P@k of ALS is 0.2342468307233408\n"
     ]
    }
   ],
   "source": [
    "# Calculate P@k of ALS model\n",
    "print(f\"P@k of ALS is {evaluation.precision_at_k(als, train_df, test_df)}\")"
   ]
  },
  {
   "cell_type": "code",
   "execution_count": 14,
   "id": "9183e105",
   "metadata": {},
   "outputs": [],
   "source": [
    "def train_and_evaluation(factor=100, data=ds_train.get_csr()):\n",
    "    \"\"\"Function for evaluate model with difference factor.\n",
    "    \n",
    "    Parameters\n",
    "    ----------\n",
    "    factor: int\n",
    "        Dimension of factor.\n",
    "        \n",
    "    data: CSR matrix\n",
    "        Rating matrix for train/test model.\n",
    "        \n",
    "    \"\"\"\n",
    "    train, test = evaluation.train_test_split(data, train_percentage=.95)\n",
    "    model = AlternatingLeastSquares(factors=factor, num_threads=1, random_state=1)\n",
    "    model.fit(train)\n",
    "    inv_mt = model.user_factors.dot(model.item_factors.T)\n",
    "    rmse_res = np.sqrt(mean_squared_error(inv_mt[test.nonzero()], test.data))\n",
    "    print(f\"RMSE of model is: {rmse_res}\")\n",
    "    mapk = evaluation.mean_average_precision_at_k(model, train, test)\n",
    "    preck = evaluation.precision_at_k(model, train, test)\n",
    "    print(f\"MAP@k of model is {mapk}\")\n",
    "    print(f\"P@k of model is {preck}\")\n",
    "    return"
   ]
  },
  {
   "cell_type": "code",
   "execution_count": 15,
   "id": "50c73659",
   "metadata": {},
   "outputs": [
    {
     "data": {
      "application/vnd.jupyter.widget-view+json": {
       "model_id": "b504d103a48448dfa7ec46367cb0a976",
       "version_major": 2,
       "version_minor": 0
      },
      "text/plain": [
       "  0%|          | 0/15 [00:00<?, ?it/s]"
      ]
     },
     "metadata": {},
     "output_type": "display_data"
    },
    {
     "name": "stdout",
     "output_type": "stream",
     "text": [
      "RMSE of model is: 3.6769254207611084\n"
     ]
    },
    {
     "data": {
      "application/vnd.jupyter.widget-view+json": {
       "model_id": "a72360cb459744d9bc416a072edcb81f",
       "version_major": 2,
       "version_minor": 0
      },
      "text/plain": [
       "  0%|          | 0/5591 [00:00<?, ?it/s]"
      ]
     },
     "metadata": {},
     "output_type": "display_data"
    },
    {
     "data": {
      "application/vnd.jupyter.widget-view+json": {
       "model_id": "60a626f1a01541b7831664dce6ba551e",
       "version_major": 2,
       "version_minor": 0
      },
      "text/plain": [
       "  0%|          | 0/5591 [00:00<?, ?it/s]"
      ]
     },
     "metadata": {},
     "output_type": "display_data"
    },
    {
     "name": "stdout",
     "output_type": "stream",
     "text": [
      "MAP@k of model is 0.03617523741612405\n",
      "P@k of model is 0.07756670488704329\n"
     ]
    }
   ],
   "source": [
    "# Calculate MAP@k and P@k with dimension of latent factor is 1000\n",
    "train_and_evaluation(1000)"
   ]
  },
  {
   "cell_type": "code",
   "execution_count": 16,
   "id": "86c44ad6",
   "metadata": {},
   "outputs": [
    {
     "data": {
      "application/vnd.jupyter.widget-view+json": {
       "model_id": "9606fc694c9c4e19a0d4634bfd83fed5",
       "version_major": 2,
       "version_minor": 0
      },
      "text/plain": [
       "  0%|          | 0/15 [00:00<?, ?it/s]"
      ]
     },
     "metadata": {},
     "output_type": "display_data"
    },
    {
     "name": "stdout",
     "output_type": "stream",
     "text": [
      "RMSE of model is: 3.4202327728271484\n"
     ]
    },
    {
     "data": {
      "application/vnd.jupyter.widget-view+json": {
       "model_id": "fc9d4f170e7043518f19d083266702ac",
       "version_major": 2,
       "version_minor": 0
      },
      "text/plain": [
       "  0%|          | 0/5642 [00:00<?, ?it/s]"
      ]
     },
     "metadata": {},
     "output_type": "display_data"
    },
    {
     "data": {
      "application/vnd.jupyter.widget-view+json": {
       "model_id": "3f6ebee5bdb04202989d40c78c8f34bd",
       "version_major": 2,
       "version_minor": 0
      },
      "text/plain": [
       "  0%|          | 0/5642 [00:00<?, ?it/s]"
      ]
     },
     "metadata": {},
     "output_type": "display_data"
    },
    {
     "name": "stdout",
     "output_type": "stream",
     "text": [
      "MAP@k of model is 0.08315190597455513\n",
      "P@k of model is 0.16853209039894515\n"
     ]
    }
   ],
   "source": [
    "# Calculate MAP@k and P@k with dimension of latent factor is 300\n",
    "train_and_evaluation(300)"
   ]
  },
  {
   "cell_type": "code",
   "execution_count": 17,
   "id": "9251fb9d",
   "metadata": {},
   "outputs": [
    {
     "data": {
      "application/vnd.jupyter.widget-view+json": {
       "model_id": "aacc2dc366e341c998cb616cdf5eafbd",
       "version_major": 2,
       "version_minor": 0
      },
      "text/plain": [
       "  0%|          | 0/15 [00:00<?, ?it/s]"
      ]
     },
     "metadata": {},
     "output_type": "display_data"
    },
    {
     "name": "stdout",
     "output_type": "stream",
     "text": [
      "RMSE of model is: 3.181378126144409\n"
     ]
    },
    {
     "data": {
      "application/vnd.jupyter.widget-view+json": {
       "model_id": "948b2a21c15f41d9b57e8df42ed943b1",
       "version_major": 2,
       "version_minor": 0
      },
      "text/plain": [
       "  0%|          | 0/5636 [00:00<?, ?it/s]"
      ]
     },
     "metadata": {},
     "output_type": "display_data"
    },
    {
     "data": {
      "application/vnd.jupyter.widget-view+json": {
       "model_id": "30c8f73672164ebf8e86f891dd31a359",
       "version_major": 2,
       "version_minor": 0
      },
      "text/plain": [
       "  0%|          | 0/5636 [00:00<?, ?it/s]"
      ]
     },
     "metadata": {},
     "output_type": "display_data"
    },
    {
     "name": "stdout",
     "output_type": "stream",
     "text": [
      "MAP@k of model is 0.1265496960866067\n",
      "P@k of model is 0.24678591391839017\n"
     ]
    }
   ],
   "source": [
    "# Calculate MAP@k and P@k with dimension of latent factor is 50\n",
    "train_and_evaluation(50)"
   ]
  },
  {
   "cell_type": "code",
   "execution_count": 18,
   "id": "403e1f96",
   "metadata": {},
   "outputs": [
    {
     "data": {
      "application/vnd.jupyter.widget-view+json": {
       "model_id": "3b1f83848cf74a5e9dc265bf4bff8a05",
       "version_major": 2,
       "version_minor": 0
      },
      "text/plain": [
       "  0%|          | 0/15 [00:00<?, ?it/s]"
      ]
     },
     "metadata": {},
     "output_type": "display_data"
    },
    {
     "name": "stdout",
     "output_type": "stream",
     "text": [
      "RMSE of model is: 3.1846776008605957\n"
     ]
    },
    {
     "data": {
      "application/vnd.jupyter.widget-view+json": {
       "model_id": "1ce33196e3004a07a1ed95242c4c0c98",
       "version_major": 2,
       "version_minor": 0
      },
      "text/plain": [
       "  0%|          | 0/5642 [00:00<?, ?it/s]"
      ]
     },
     "metadata": {},
     "output_type": "display_data"
    },
    {
     "data": {
      "application/vnd.jupyter.widget-view+json": {
       "model_id": "cffba3a5cde84bf4bc82b5516d0b7dd2",
       "version_major": 2,
       "version_minor": 0
      },
      "text/plain": [
       "  0%|          | 0/5642 [00:00<?, ?it/s]"
      ]
     },
     "metadata": {},
     "output_type": "display_data"
    },
    {
     "name": "stdout",
     "output_type": "stream",
     "text": [
      "MAP@k of model is 0.12268558662026065\n",
      "P@k of model is 0.24459694447894673\n"
     ]
    }
   ],
   "source": [
    "# Calculate MAP@k and P@k with dimension of latent factor is 30\n",
    "train_and_evaluation(30)"
   ]
  },
  {
   "cell_type": "code",
   "execution_count": 19,
   "id": "4d50e82f",
   "metadata": {},
   "outputs": [
    {
     "data": {
      "application/vnd.jupyter.widget-view+json": {
       "model_id": "a9d5ef0518194149b88e1dd05098067f",
       "version_major": 2,
       "version_minor": 0
      },
      "text/plain": [
       "  0%|          | 0/15 [00:00<?, ?it/s]"
      ]
     },
     "metadata": {},
     "output_type": "display_data"
    },
    {
     "name": "stdout",
     "output_type": "stream",
     "text": [
      "RMSE of model is: 3.216597080230713\n"
     ]
    },
    {
     "data": {
      "application/vnd.jupyter.widget-view+json": {
       "model_id": "c7d249946893426e8a8ed4cec94b4a0d",
       "version_major": 2,
       "version_minor": 0
      },
      "text/plain": [
       "  0%|          | 0/5610 [00:00<?, ?it/s]"
      ]
     },
     "metadata": {},
     "output_type": "display_data"
    },
    {
     "data": {
      "application/vnd.jupyter.widget-view+json": {
       "model_id": "a59bdc511022420cbc89c1a050a74d5e",
       "version_major": 2,
       "version_minor": 0
      },
      "text/plain": [
       "  0%|          | 0/5610 [00:00<?, ?it/s]"
      ]
     },
     "metadata": {},
     "output_type": "display_data"
    },
    {
     "name": "stdout",
     "output_type": "stream",
     "text": [
      "MAP@k of model is 0.1023264824167602\n",
      "P@k of model is 0.20694595857343093\n"
     ]
    }
   ],
   "source": [
    "# Calculate MAP@k and P@k with dimension of latent factor is 10\n",
    "train_and_evaluation(10)"
   ]
  },
  {
   "cell_type": "code",
   "execution_count": null,
   "id": "bc41b330",
   "metadata": {},
   "outputs": [],
   "source": []
  }
 ],
 "metadata": {
  "kernelspec": {
   "display_name": "Python 3 (ipykernel)",
   "language": "python",
   "name": "python3"
  },
  "language_info": {
   "codemirror_mode": {
    "name": "ipython",
    "version": 3
   },
   "file_extension": ".py",
   "mimetype": "text/x-python",
   "name": "python",
   "nbconvert_exporter": "python",
   "pygments_lexer": "ipython3",
   "version": "3.9.12"
  }
 },
 "nbformat": 4,
 "nbformat_minor": 5
}
