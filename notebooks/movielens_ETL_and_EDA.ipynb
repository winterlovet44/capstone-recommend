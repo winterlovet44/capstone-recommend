{
 "cells": [
  {
   "cell_type": "code",
   "execution_count": 1,
   "id": "e5577085",
   "metadata": {},
   "outputs": [],
   "source": [
    "import pandas as pd\n",
    "import numpy as np\n",
    "from matplotlib import pyplot as plt\n",
    "import seaborn as sns\n",
    "import requests\n",
    "from sqlalchemy import create_engine"
   ]
  },
  {
   "cell_type": "code",
   "execution_count": 2,
   "id": "d812c362",
   "metadata": {},
   "outputs": [
    {
     "name": "stderr",
     "output_type": "stream",
     "text": [
      "C:\\Users\\Hau Pham\\AppData\\Local\\Temp\\ipykernel_6764\\1257120289.py:1: ParserWarning: Falling back to the 'python' engine because the 'c' engine does not support regex separators (separators > 1 char and different from '\\s+' are interpreted as regex); you can avoid this warning by specifying engine='python'.\n",
      "  meta = pd.read_csv(\"ml-1m/movies.dat\", delimiter=\"::\", encoding = \"ISO-8859-1\", header=None,\n"
     ]
    }
   ],
   "source": [
    "meta = pd.read_csv(\"ml-1m/movies.dat\", delimiter=\"::\", encoding = \"ISO-8859-1\", header=None, \n",
    "                   names=[\"MovieID\",\"Title\",\"Genres\"])"
   ]
  },
  {
   "cell_type": "code",
   "execution_count": 3,
   "id": "c9ddcd70",
   "metadata": {},
   "outputs": [
    {
     "data": {
      "text/html": [
       "<div>\n",
       "<style scoped>\n",
       "    .dataframe tbody tr th:only-of-type {\n",
       "        vertical-align: middle;\n",
       "    }\n",
       "\n",
       "    .dataframe tbody tr th {\n",
       "        vertical-align: top;\n",
       "    }\n",
       "\n",
       "    .dataframe thead th {\n",
       "        text-align: right;\n",
       "    }\n",
       "</style>\n",
       "<table border=\"1\" class=\"dataframe\">\n",
       "  <thead>\n",
       "    <tr style=\"text-align: right;\">\n",
       "      <th></th>\n",
       "      <th>MovieID</th>\n",
       "      <th>Title</th>\n",
       "      <th>Genres</th>\n",
       "    </tr>\n",
       "  </thead>\n",
       "  <tbody>\n",
       "    <tr>\n",
       "      <th>0</th>\n",
       "      <td>1</td>\n",
       "      <td>Toy Story (1995)</td>\n",
       "      <td>Animation|Children's|Comedy</td>\n",
       "    </tr>\n",
       "    <tr>\n",
       "      <th>1</th>\n",
       "      <td>2</td>\n",
       "      <td>Jumanji (1995)</td>\n",
       "      <td>Adventure|Children's|Fantasy</td>\n",
       "    </tr>\n",
       "    <tr>\n",
       "      <th>2</th>\n",
       "      <td>3</td>\n",
       "      <td>Grumpier Old Men (1995)</td>\n",
       "      <td>Comedy|Romance</td>\n",
       "    </tr>\n",
       "    <tr>\n",
       "      <th>3</th>\n",
       "      <td>4</td>\n",
       "      <td>Waiting to Exhale (1995)</td>\n",
       "      <td>Comedy|Drama</td>\n",
       "    </tr>\n",
       "    <tr>\n",
       "      <th>4</th>\n",
       "      <td>5</td>\n",
       "      <td>Father of the Bride Part II (1995)</td>\n",
       "      <td>Comedy</td>\n",
       "    </tr>\n",
       "    <tr>\n",
       "      <th>...</th>\n",
       "      <td>...</td>\n",
       "      <td>...</td>\n",
       "      <td>...</td>\n",
       "    </tr>\n",
       "    <tr>\n",
       "      <th>3878</th>\n",
       "      <td>3948</td>\n",
       "      <td>Meet the Parents (2000)</td>\n",
       "      <td>Comedy</td>\n",
       "    </tr>\n",
       "    <tr>\n",
       "      <th>3879</th>\n",
       "      <td>3949</td>\n",
       "      <td>Requiem for a Dream (2000)</td>\n",
       "      <td>Drama</td>\n",
       "    </tr>\n",
       "    <tr>\n",
       "      <th>3880</th>\n",
       "      <td>3950</td>\n",
       "      <td>Tigerland (2000)</td>\n",
       "      <td>Drama</td>\n",
       "    </tr>\n",
       "    <tr>\n",
       "      <th>3881</th>\n",
       "      <td>3951</td>\n",
       "      <td>Two Family House (2000)</td>\n",
       "      <td>Drama</td>\n",
       "    </tr>\n",
       "    <tr>\n",
       "      <th>3882</th>\n",
       "      <td>3952</td>\n",
       "      <td>Contender, The (2000)</td>\n",
       "      <td>Drama|Thriller</td>\n",
       "    </tr>\n",
       "  </tbody>\n",
       "</table>\n",
       "<p>3883 rows × 3 columns</p>\n",
       "</div>"
      ],
      "text/plain": [
       "      MovieID                               Title  \\\n",
       "0           1                    Toy Story (1995)   \n",
       "1           2                      Jumanji (1995)   \n",
       "2           3             Grumpier Old Men (1995)   \n",
       "3           4            Waiting to Exhale (1995)   \n",
       "4           5  Father of the Bride Part II (1995)   \n",
       "...       ...                                 ...   \n",
       "3878     3948             Meet the Parents (2000)   \n",
       "3879     3949          Requiem for a Dream (2000)   \n",
       "3880     3950                    Tigerland (2000)   \n",
       "3881     3951             Two Family House (2000)   \n",
       "3882     3952               Contender, The (2000)   \n",
       "\n",
       "                            Genres  \n",
       "0      Animation|Children's|Comedy  \n",
       "1     Adventure|Children's|Fantasy  \n",
       "2                   Comedy|Romance  \n",
       "3                     Comedy|Drama  \n",
       "4                           Comedy  \n",
       "...                            ...  \n",
       "3878                        Comedy  \n",
       "3879                         Drama  \n",
       "3880                         Drama  \n",
       "3881                         Drama  \n",
       "3882                Drama|Thriller  \n",
       "\n",
       "[3883 rows x 3 columns]"
      ]
     },
     "execution_count": 3,
     "metadata": {},
     "output_type": "execute_result"
    }
   ],
   "source": [
    "meta"
   ]
  },
  {
   "cell_type": "code",
   "execution_count": 4,
   "id": "3d0fbeda",
   "metadata": {},
   "outputs": [],
   "source": [
    "meta['release_year'] = meta.Title.str.extract('(\\d+)')"
   ]
  },
  {
   "cell_type": "code",
   "execution_count": 5,
   "id": "75ac666d",
   "metadata": {},
   "outputs": [],
   "source": [
    "meta.Title = meta.Title.apply(lambda x: x[:-7])"
   ]
  },
  {
   "cell_type": "code",
   "execution_count": 6,
   "id": "ebd0140b",
   "metadata": {},
   "outputs": [
    {
     "data": {
      "text/html": [
       "<div>\n",
       "<style scoped>\n",
       "    .dataframe tbody tr th:only-of-type {\n",
       "        vertical-align: middle;\n",
       "    }\n",
       "\n",
       "    .dataframe tbody tr th {\n",
       "        vertical-align: top;\n",
       "    }\n",
       "\n",
       "    .dataframe thead th {\n",
       "        text-align: right;\n",
       "    }\n",
       "</style>\n",
       "<table border=\"1\" class=\"dataframe\">\n",
       "  <thead>\n",
       "    <tr style=\"text-align: right;\">\n",
       "      <th></th>\n",
       "      <th>MovieID</th>\n",
       "      <th>Title</th>\n",
       "      <th>Genres</th>\n",
       "      <th>release_year</th>\n",
       "    </tr>\n",
       "  </thead>\n",
       "  <tbody>\n",
       "    <tr>\n",
       "      <th>0</th>\n",
       "      <td>1</td>\n",
       "      <td>Toy Story</td>\n",
       "      <td>Animation|Children's|Comedy</td>\n",
       "      <td>1995</td>\n",
       "    </tr>\n",
       "    <tr>\n",
       "      <th>1</th>\n",
       "      <td>2</td>\n",
       "      <td>Jumanji</td>\n",
       "      <td>Adventure|Children's|Fantasy</td>\n",
       "      <td>1995</td>\n",
       "    </tr>\n",
       "    <tr>\n",
       "      <th>2</th>\n",
       "      <td>3</td>\n",
       "      <td>Grumpier Old Men</td>\n",
       "      <td>Comedy|Romance</td>\n",
       "      <td>1995</td>\n",
       "    </tr>\n",
       "    <tr>\n",
       "      <th>3</th>\n",
       "      <td>4</td>\n",
       "      <td>Waiting to Exhale</td>\n",
       "      <td>Comedy|Drama</td>\n",
       "      <td>1995</td>\n",
       "    </tr>\n",
       "    <tr>\n",
       "      <th>4</th>\n",
       "      <td>5</td>\n",
       "      <td>Father of the Bride Part II</td>\n",
       "      <td>Comedy</td>\n",
       "      <td>1995</td>\n",
       "    </tr>\n",
       "    <tr>\n",
       "      <th>...</th>\n",
       "      <td>...</td>\n",
       "      <td>...</td>\n",
       "      <td>...</td>\n",
       "      <td>...</td>\n",
       "    </tr>\n",
       "    <tr>\n",
       "      <th>3878</th>\n",
       "      <td>3948</td>\n",
       "      <td>Meet the Parents</td>\n",
       "      <td>Comedy</td>\n",
       "      <td>2000</td>\n",
       "    </tr>\n",
       "    <tr>\n",
       "      <th>3879</th>\n",
       "      <td>3949</td>\n",
       "      <td>Requiem for a Dream</td>\n",
       "      <td>Drama</td>\n",
       "      <td>2000</td>\n",
       "    </tr>\n",
       "    <tr>\n",
       "      <th>3880</th>\n",
       "      <td>3950</td>\n",
       "      <td>Tigerland</td>\n",
       "      <td>Drama</td>\n",
       "      <td>2000</td>\n",
       "    </tr>\n",
       "    <tr>\n",
       "      <th>3881</th>\n",
       "      <td>3951</td>\n",
       "      <td>Two Family House</td>\n",
       "      <td>Drama</td>\n",
       "      <td>2000</td>\n",
       "    </tr>\n",
       "    <tr>\n",
       "      <th>3882</th>\n",
       "      <td>3952</td>\n",
       "      <td>Contender, The</td>\n",
       "      <td>Drama|Thriller</td>\n",
       "      <td>2000</td>\n",
       "    </tr>\n",
       "  </tbody>\n",
       "</table>\n",
       "<p>3883 rows × 4 columns</p>\n",
       "</div>"
      ],
      "text/plain": [
       "      MovieID                        Title                        Genres  \\\n",
       "0           1                    Toy Story   Animation|Children's|Comedy   \n",
       "1           2                      Jumanji  Adventure|Children's|Fantasy   \n",
       "2           3             Grumpier Old Men                Comedy|Romance   \n",
       "3           4            Waiting to Exhale                  Comedy|Drama   \n",
       "4           5  Father of the Bride Part II                        Comedy   \n",
       "...       ...                          ...                           ...   \n",
       "3878     3948             Meet the Parents                        Comedy   \n",
       "3879     3949          Requiem for a Dream                         Drama   \n",
       "3880     3950                    Tigerland                         Drama   \n",
       "3881     3951             Two Family House                         Drama   \n",
       "3882     3952               Contender, The                Drama|Thriller   \n",
       "\n",
       "     release_year  \n",
       "0            1995  \n",
       "1            1995  \n",
       "2            1995  \n",
       "3            1995  \n",
       "4            1995  \n",
       "...           ...  \n",
       "3878         2000  \n",
       "3879         2000  \n",
       "3880         2000  \n",
       "3881         2000  \n",
       "3882         2000  \n",
       "\n",
       "[3883 rows x 4 columns]"
      ]
     },
     "execution_count": 6,
     "metadata": {},
     "output_type": "execute_result"
    }
   ],
   "source": [
    "meta"
   ]
  },
  {
   "cell_type": "code",
   "execution_count": 13,
   "id": "ce65ff81",
   "metadata": {},
   "outputs": [],
   "source": [
    "meta.Genres = meta.Genres.apply(lambda x: x.replace(\"|\", \",\"))"
   ]
  },
  {
   "cell_type": "code",
   "execution_count": 63,
   "id": "d4fb6649",
   "metadata": {},
   "outputs": [],
   "source": [
    "item_dict = meta.set_index(\"MovieID\").to_dict(orient=\"index\")"
   ]
  },
  {
   "cell_type": "code",
   "execution_count": 65,
   "id": "a0a24c40",
   "metadata": {},
   "outputs": [
    {
     "data": {
      "text/plain": [
       "{'Title': 'Toy Story',\n",
       " 'Genres': ['Animation', \"Children's\", 'Comedy'],\n",
       " 'release_year': '1995'}"
      ]
     },
     "execution_count": 65,
     "metadata": {},
     "output_type": "execute_result"
    }
   ],
   "source": [
    "item_dict[1]"
   ]
  },
  {
   "cell_type": "code",
   "execution_count": 52,
   "id": "d3b9ddd4",
   "metadata": {},
   "outputs": [],
   "source": [
    "meta.to_json(\"ml-1m/metadata.json\", orient=\"records\")"
   ]
  },
  {
   "cell_type": "code",
   "execution_count": 101,
   "id": "0a832742",
   "metadata": {},
   "outputs": [],
   "source": [
    "class Metadata:\n",
    "    \n",
    "    def __init__(self, meta_df, id_col=\"MovieID\"):\n",
    "        self.meta = meta_df.set_index(id_col).to_dict(orient=\"index\")\n",
    "        self._id_type = type(list(self.meta.keys())[0])\n",
    "        \n",
    "    def get_movie_information(self, iid):\n",
    "        if not isinstance(iid, self._id_type):\n",
    "            try:\n",
    "                iid = self._id_type(iid)\n",
    "            except ValueError as err:\n",
    "                raise err(f\"Unknown id {iid}\")\n",
    "        return self.meta.get(iid, \"Unknown Movie ID\")\n",
    "            \n",
    "    def save_meta(self, path):\n",
    "        import json\n",
    "        with open(path, \"w\") as f:\n",
    "            json.dump(self.meta, f)\n",
    "            f.close()\n",
    "            \n",
    "    @classmethod\n",
    "    def load(cls, path):\n",
    "        data = pd.read_json(path, orient=\"index\")\n",
    "        return cls(data.reset_index(), id_col='index')"
   ]
  },
  {
   "cell_type": "code",
   "execution_count": 23,
   "id": "37de4e5f",
   "metadata": {},
   "outputs": [],
   "source": [
    "def save_data(df, *, database_filename, table, if_exists='replace'):\n",
    "    \"\"\"\n",
    "    Write data stored in Dataframe to database.\n",
    "    Parameters:\n",
    "    df: pandas DataFrame\n",
    "        DataFrame has been cleaned.\n",
    "    database_filename: str\n",
    "        Name of database.\n",
    "    if_exists: str, default: replace\n",
    "        How to behave if the table already exists.\n",
    "        It will be replace by new table by default\n",
    "    Return: None\n",
    "    \"\"\"\n",
    "    engine = create_engine(\"sqlite:///\" + database_filename)\n",
    "    df.to_sql(table, engine, index=False, if_exists=if_exists)"
   ]
  },
  {
   "cell_type": "code",
   "execution_count": 8,
   "id": "bb126f06",
   "metadata": {},
   "outputs": [],
   "source": [
    "def read_data(query, engine):\n",
    "    return pd.read_sql_query(query, engine)"
   ]
  },
  {
   "cell_type": "code",
   "execution_count": 24,
   "id": "ff4352c1",
   "metadata": {},
   "outputs": [],
   "source": [
    "save_data(meta, table=\"movielens\", database_filename=\"metadata\")"
   ]
  },
  {
   "cell_type": "code",
   "execution_count": 26,
   "id": "a30add1c",
   "metadata": {},
   "outputs": [],
   "source": [
    "# pd.read_sql_query(\"select * from movielens\", engine)"
   ]
  },
  {
   "cell_type": "code",
   "execution_count": 16,
   "id": "83d1f89a",
   "metadata": {},
   "outputs": [],
   "source": [
    "def get_movie_information(table, iid, engine):\n",
    "    query = f\"\"\"SELECT * FROM {table} WHERE MovieID={iid}\"\"\"\n",
    "    return read_data(query, engine)"
   ]
  },
  {
   "cell_type": "code",
   "execution_count": 17,
   "id": "cb0d2e82",
   "metadata": {},
   "outputs": [],
   "source": [
    "engine = create_engine(\"sqlite:///metadata\")"
   ]
  },
  {
   "cell_type": "code",
   "execution_count": 27,
   "id": "061340f7",
   "metadata": {},
   "outputs": [
    {
     "data": {
      "text/html": [
       "<div>\n",
       "<style scoped>\n",
       "    .dataframe tbody tr th:only-of-type {\n",
       "        vertical-align: middle;\n",
       "    }\n",
       "\n",
       "    .dataframe tbody tr th {\n",
       "        vertical-align: top;\n",
       "    }\n",
       "\n",
       "    .dataframe thead th {\n",
       "        text-align: right;\n",
       "    }\n",
       "</style>\n",
       "<table border=\"1\" class=\"dataframe\">\n",
       "  <thead>\n",
       "    <tr style=\"text-align: right;\">\n",
       "      <th></th>\n",
       "      <th>MovieID</th>\n",
       "      <th>Title</th>\n",
       "      <th>Genres</th>\n",
       "      <th>release_year</th>\n",
       "    </tr>\n",
       "  </thead>\n",
       "  <tbody>\n",
       "    <tr>\n",
       "      <th>0</th>\n",
       "      <td>1</td>\n",
       "      <td>Toy Story</td>\n",
       "      <td>Animation,Children's,Comedy</td>\n",
       "      <td>1995</td>\n",
       "    </tr>\n",
       "  </tbody>\n",
       "</table>\n",
       "</div>"
      ],
      "text/plain": [
       "   MovieID      Title                       Genres release_year\n",
       "0        1  Toy Story  Animation,Children's,Comedy         1995"
      ]
     },
     "execution_count": 27,
     "metadata": {},
     "output_type": "execute_result"
    }
   ],
   "source": [
    "get_movie_information(\"movielens\", 1, engine)"
   ]
  },
  {
   "cell_type": "code",
   "execution_count": 85,
   "id": "4c18e8aa",
   "metadata": {},
   "outputs": [],
   "source": [
    "m = Metadata(meta)"
   ]
  },
  {
   "cell_type": "code",
   "execution_count": 87,
   "id": "56edc340",
   "metadata": {},
   "outputs": [
    {
     "data": {
      "text/plain": [
       "{'Title': 'Toy Story',\n",
       " 'Genres': ['Animation', \"Children's\", 'Comedy'],\n",
       " 'release_year': '1995'}"
      ]
     },
     "execution_count": 87,
     "metadata": {},
     "output_type": "execute_result"
    }
   ],
   "source": [
    "m.get_movie_information(\"1\")"
   ]
  },
  {
   "cell_type": "code",
   "execution_count": 88,
   "id": "67ee6452",
   "metadata": {},
   "outputs": [],
   "source": [
    "m.save_meta(\"ml-1m/new_meta.json\")"
   ]
  },
  {
   "cell_type": "code",
   "execution_count": 102,
   "id": "4d7400c4",
   "metadata": {},
   "outputs": [],
   "source": [
    "m1 = Metadata.load(\"ml-1m/new_meta.json\")"
   ]
  },
  {
   "cell_type": "code",
   "execution_count": 69,
   "id": "5f485208",
   "metadata": {},
   "outputs": [],
   "source": [
    "import json"
   ]
  },
  {
   "cell_type": "code",
   "execution_count": null,
   "id": "2b6e0ea8",
   "metadata": {},
   "outputs": [],
   "source": [
    "json.dump()"
   ]
  },
  {
   "cell_type": "code",
   "execution_count": 12,
   "id": "a153a9d6",
   "metadata": {},
   "outputs": [],
   "source": [
    "from sklearn.preprocessing import MultiLabelBinarizer\n",
    "\n",
    "mlb = MultiLabelBinarizer()"
   ]
  },
  {
   "cell_type": "code",
   "execution_count": 27,
   "id": "9a205fbc",
   "metadata": {},
   "outputs": [],
   "source": [
    "genre_transform = pd.DataFrame(mlb.fit_transform(meta.Genres), columns=mlb.classes_, index=meta.index)"
   ]
  },
  {
   "cell_type": "code",
   "execution_count": 28,
   "id": "becbaca8",
   "metadata": {},
   "outputs": [
    {
     "data": {
      "text/html": [
       "<div>\n",
       "<style scoped>\n",
       "    .dataframe tbody tr th:only-of-type {\n",
       "        vertical-align: middle;\n",
       "    }\n",
       "\n",
       "    .dataframe tbody tr th {\n",
       "        vertical-align: top;\n",
       "    }\n",
       "\n",
       "    .dataframe thead th {\n",
       "        text-align: right;\n",
       "    }\n",
       "</style>\n",
       "<table border=\"1\" class=\"dataframe\">\n",
       "  <thead>\n",
       "    <tr style=\"text-align: right;\">\n",
       "      <th></th>\n",
       "      <th>Action</th>\n",
       "      <th>Adventure</th>\n",
       "      <th>Animation</th>\n",
       "      <th>Children's</th>\n",
       "      <th>Comedy</th>\n",
       "      <th>Crime</th>\n",
       "      <th>Documentary</th>\n",
       "      <th>Drama</th>\n",
       "      <th>Fantasy</th>\n",
       "      <th>Film-Noir</th>\n",
       "      <th>Horror</th>\n",
       "      <th>Musical</th>\n",
       "      <th>Mystery</th>\n",
       "      <th>Romance</th>\n",
       "      <th>Sci-Fi</th>\n",
       "      <th>Thriller</th>\n",
       "      <th>War</th>\n",
       "      <th>Western</th>\n",
       "    </tr>\n",
       "  </thead>\n",
       "  <tbody>\n",
       "    <tr>\n",
       "      <th>0</th>\n",
       "      <td>0</td>\n",
       "      <td>0</td>\n",
       "      <td>1</td>\n",
       "      <td>1</td>\n",
       "      <td>1</td>\n",
       "      <td>0</td>\n",
       "      <td>0</td>\n",
       "      <td>0</td>\n",
       "      <td>0</td>\n",
       "      <td>0</td>\n",
       "      <td>0</td>\n",
       "      <td>0</td>\n",
       "      <td>0</td>\n",
       "      <td>0</td>\n",
       "      <td>0</td>\n",
       "      <td>0</td>\n",
       "      <td>0</td>\n",
       "      <td>0</td>\n",
       "    </tr>\n",
       "    <tr>\n",
       "      <th>1</th>\n",
       "      <td>0</td>\n",
       "      <td>1</td>\n",
       "      <td>0</td>\n",
       "      <td>1</td>\n",
       "      <td>0</td>\n",
       "      <td>0</td>\n",
       "      <td>0</td>\n",
       "      <td>0</td>\n",
       "      <td>1</td>\n",
       "      <td>0</td>\n",
       "      <td>0</td>\n",
       "      <td>0</td>\n",
       "      <td>0</td>\n",
       "      <td>0</td>\n",
       "      <td>0</td>\n",
       "      <td>0</td>\n",
       "      <td>0</td>\n",
       "      <td>0</td>\n",
       "    </tr>\n",
       "    <tr>\n",
       "      <th>2</th>\n",
       "      <td>0</td>\n",
       "      <td>0</td>\n",
       "      <td>0</td>\n",
       "      <td>0</td>\n",
       "      <td>1</td>\n",
       "      <td>0</td>\n",
       "      <td>0</td>\n",
       "      <td>0</td>\n",
       "      <td>0</td>\n",
       "      <td>0</td>\n",
       "      <td>0</td>\n",
       "      <td>0</td>\n",
       "      <td>0</td>\n",
       "      <td>1</td>\n",
       "      <td>0</td>\n",
       "      <td>0</td>\n",
       "      <td>0</td>\n",
       "      <td>0</td>\n",
       "    </tr>\n",
       "    <tr>\n",
       "      <th>3</th>\n",
       "      <td>0</td>\n",
       "      <td>0</td>\n",
       "      <td>0</td>\n",
       "      <td>0</td>\n",
       "      <td>1</td>\n",
       "      <td>0</td>\n",
       "      <td>0</td>\n",
       "      <td>1</td>\n",
       "      <td>0</td>\n",
       "      <td>0</td>\n",
       "      <td>0</td>\n",
       "      <td>0</td>\n",
       "      <td>0</td>\n",
       "      <td>0</td>\n",
       "      <td>0</td>\n",
       "      <td>0</td>\n",
       "      <td>0</td>\n",
       "      <td>0</td>\n",
       "    </tr>\n",
       "    <tr>\n",
       "      <th>4</th>\n",
       "      <td>0</td>\n",
       "      <td>0</td>\n",
       "      <td>0</td>\n",
       "      <td>0</td>\n",
       "      <td>1</td>\n",
       "      <td>0</td>\n",
       "      <td>0</td>\n",
       "      <td>0</td>\n",
       "      <td>0</td>\n",
       "      <td>0</td>\n",
       "      <td>0</td>\n",
       "      <td>0</td>\n",
       "      <td>0</td>\n",
       "      <td>0</td>\n",
       "      <td>0</td>\n",
       "      <td>0</td>\n",
       "      <td>0</td>\n",
       "      <td>0</td>\n",
       "    </tr>\n",
       "    <tr>\n",
       "      <th>...</th>\n",
       "      <td>...</td>\n",
       "      <td>...</td>\n",
       "      <td>...</td>\n",
       "      <td>...</td>\n",
       "      <td>...</td>\n",
       "      <td>...</td>\n",
       "      <td>...</td>\n",
       "      <td>...</td>\n",
       "      <td>...</td>\n",
       "      <td>...</td>\n",
       "      <td>...</td>\n",
       "      <td>...</td>\n",
       "      <td>...</td>\n",
       "      <td>...</td>\n",
       "      <td>...</td>\n",
       "      <td>...</td>\n",
       "      <td>...</td>\n",
       "      <td>...</td>\n",
       "    </tr>\n",
       "    <tr>\n",
       "      <th>3878</th>\n",
       "      <td>0</td>\n",
       "      <td>0</td>\n",
       "      <td>0</td>\n",
       "      <td>0</td>\n",
       "      <td>1</td>\n",
       "      <td>0</td>\n",
       "      <td>0</td>\n",
       "      <td>0</td>\n",
       "      <td>0</td>\n",
       "      <td>0</td>\n",
       "      <td>0</td>\n",
       "      <td>0</td>\n",
       "      <td>0</td>\n",
       "      <td>0</td>\n",
       "      <td>0</td>\n",
       "      <td>0</td>\n",
       "      <td>0</td>\n",
       "      <td>0</td>\n",
       "    </tr>\n",
       "    <tr>\n",
       "      <th>3879</th>\n",
       "      <td>0</td>\n",
       "      <td>0</td>\n",
       "      <td>0</td>\n",
       "      <td>0</td>\n",
       "      <td>0</td>\n",
       "      <td>0</td>\n",
       "      <td>0</td>\n",
       "      <td>1</td>\n",
       "      <td>0</td>\n",
       "      <td>0</td>\n",
       "      <td>0</td>\n",
       "      <td>0</td>\n",
       "      <td>0</td>\n",
       "      <td>0</td>\n",
       "      <td>0</td>\n",
       "      <td>0</td>\n",
       "      <td>0</td>\n",
       "      <td>0</td>\n",
       "    </tr>\n",
       "    <tr>\n",
       "      <th>3880</th>\n",
       "      <td>0</td>\n",
       "      <td>0</td>\n",
       "      <td>0</td>\n",
       "      <td>0</td>\n",
       "      <td>0</td>\n",
       "      <td>0</td>\n",
       "      <td>0</td>\n",
       "      <td>1</td>\n",
       "      <td>0</td>\n",
       "      <td>0</td>\n",
       "      <td>0</td>\n",
       "      <td>0</td>\n",
       "      <td>0</td>\n",
       "      <td>0</td>\n",
       "      <td>0</td>\n",
       "      <td>0</td>\n",
       "      <td>0</td>\n",
       "      <td>0</td>\n",
       "    </tr>\n",
       "    <tr>\n",
       "      <th>3881</th>\n",
       "      <td>0</td>\n",
       "      <td>0</td>\n",
       "      <td>0</td>\n",
       "      <td>0</td>\n",
       "      <td>0</td>\n",
       "      <td>0</td>\n",
       "      <td>0</td>\n",
       "      <td>1</td>\n",
       "      <td>0</td>\n",
       "      <td>0</td>\n",
       "      <td>0</td>\n",
       "      <td>0</td>\n",
       "      <td>0</td>\n",
       "      <td>0</td>\n",
       "      <td>0</td>\n",
       "      <td>0</td>\n",
       "      <td>0</td>\n",
       "      <td>0</td>\n",
       "    </tr>\n",
       "    <tr>\n",
       "      <th>3882</th>\n",
       "      <td>0</td>\n",
       "      <td>0</td>\n",
       "      <td>0</td>\n",
       "      <td>0</td>\n",
       "      <td>0</td>\n",
       "      <td>0</td>\n",
       "      <td>0</td>\n",
       "      <td>1</td>\n",
       "      <td>0</td>\n",
       "      <td>0</td>\n",
       "      <td>0</td>\n",
       "      <td>0</td>\n",
       "      <td>0</td>\n",
       "      <td>0</td>\n",
       "      <td>0</td>\n",
       "      <td>1</td>\n",
       "      <td>0</td>\n",
       "      <td>0</td>\n",
       "    </tr>\n",
       "  </tbody>\n",
       "</table>\n",
       "<p>3883 rows × 18 columns</p>\n",
       "</div>"
      ],
      "text/plain": [
       "      Action  Adventure  Animation  Children's  Comedy  Crime  Documentary  \\\n",
       "0          0          0          1           1       1      0            0   \n",
       "1          0          1          0           1       0      0            0   \n",
       "2          0          0          0           0       1      0            0   \n",
       "3          0          0          0           0       1      0            0   \n",
       "4          0          0          0           0       1      0            0   \n",
       "...      ...        ...        ...         ...     ...    ...          ...   \n",
       "3878       0          0          0           0       1      0            0   \n",
       "3879       0          0          0           0       0      0            0   \n",
       "3880       0          0          0           0       0      0            0   \n",
       "3881       0          0          0           0       0      0            0   \n",
       "3882       0          0          0           0       0      0            0   \n",
       "\n",
       "      Drama  Fantasy  Film-Noir  Horror  Musical  Mystery  Romance  Sci-Fi  \\\n",
       "0         0        0          0       0        0        0        0       0   \n",
       "1         0        1          0       0        0        0        0       0   \n",
       "2         0        0          0       0        0        0        1       0   \n",
       "3         1        0          0       0        0        0        0       0   \n",
       "4         0        0          0       0        0        0        0       0   \n",
       "...     ...      ...        ...     ...      ...      ...      ...     ...   \n",
       "3878      0        0          0       0        0        0        0       0   \n",
       "3879      1        0          0       0        0        0        0       0   \n",
       "3880      1        0          0       0        0        0        0       0   \n",
       "3881      1        0          0       0        0        0        0       0   \n",
       "3882      1        0          0       0        0        0        0       0   \n",
       "\n",
       "      Thriller  War  Western  \n",
       "0            0    0        0  \n",
       "1            0    0        0  \n",
       "2            0    0        0  \n",
       "3            0    0        0  \n",
       "4            0    0        0  \n",
       "...        ...  ...      ...  \n",
       "3878         0    0        0  \n",
       "3879         0    0        0  \n",
       "3880         0    0        0  \n",
       "3881         0    0        0  \n",
       "3882         1    0        0  \n",
       "\n",
       "[3883 rows x 18 columns]"
      ]
     },
     "execution_count": 28,
     "metadata": {},
     "output_type": "execute_result"
    }
   ],
   "source": [
    "genre_transform"
   ]
  },
  {
   "cell_type": "code",
   "execution_count": 31,
   "id": "bace61e3",
   "metadata": {},
   "outputs": [],
   "source": [
    "new_meta = pd.concat([meta.drop(columns=['Genres']), genre_transform], axis=1)"
   ]
  },
  {
   "cell_type": "code",
   "execution_count": 32,
   "id": "19479de7",
   "metadata": {},
   "outputs": [
    {
     "data": {
      "text/html": [
       "<div>\n",
       "<style scoped>\n",
       "    .dataframe tbody tr th:only-of-type {\n",
       "        vertical-align: middle;\n",
       "    }\n",
       "\n",
       "    .dataframe tbody tr th {\n",
       "        vertical-align: top;\n",
       "    }\n",
       "\n",
       "    .dataframe thead th {\n",
       "        text-align: right;\n",
       "    }\n",
       "</style>\n",
       "<table border=\"1\" class=\"dataframe\">\n",
       "  <thead>\n",
       "    <tr style=\"text-align: right;\">\n",
       "      <th></th>\n",
       "      <th>MovieID</th>\n",
       "      <th>Title</th>\n",
       "      <th>release_year</th>\n",
       "      <th>Action</th>\n",
       "      <th>Adventure</th>\n",
       "      <th>Animation</th>\n",
       "      <th>Children's</th>\n",
       "      <th>Comedy</th>\n",
       "      <th>Crime</th>\n",
       "      <th>Documentary</th>\n",
       "      <th>...</th>\n",
       "      <th>Fantasy</th>\n",
       "      <th>Film-Noir</th>\n",
       "      <th>Horror</th>\n",
       "      <th>Musical</th>\n",
       "      <th>Mystery</th>\n",
       "      <th>Romance</th>\n",
       "      <th>Sci-Fi</th>\n",
       "      <th>Thriller</th>\n",
       "      <th>War</th>\n",
       "      <th>Western</th>\n",
       "    </tr>\n",
       "  </thead>\n",
       "  <tbody>\n",
       "    <tr>\n",
       "      <th>0</th>\n",
       "      <td>1</td>\n",
       "      <td>Toy Story</td>\n",
       "      <td>1995</td>\n",
       "      <td>0</td>\n",
       "      <td>0</td>\n",
       "      <td>1</td>\n",
       "      <td>1</td>\n",
       "      <td>1</td>\n",
       "      <td>0</td>\n",
       "      <td>0</td>\n",
       "      <td>...</td>\n",
       "      <td>0</td>\n",
       "      <td>0</td>\n",
       "      <td>0</td>\n",
       "      <td>0</td>\n",
       "      <td>0</td>\n",
       "      <td>0</td>\n",
       "      <td>0</td>\n",
       "      <td>0</td>\n",
       "      <td>0</td>\n",
       "      <td>0</td>\n",
       "    </tr>\n",
       "    <tr>\n",
       "      <th>1</th>\n",
       "      <td>2</td>\n",
       "      <td>Jumanji</td>\n",
       "      <td>1995</td>\n",
       "      <td>0</td>\n",
       "      <td>1</td>\n",
       "      <td>0</td>\n",
       "      <td>1</td>\n",
       "      <td>0</td>\n",
       "      <td>0</td>\n",
       "      <td>0</td>\n",
       "      <td>...</td>\n",
       "      <td>1</td>\n",
       "      <td>0</td>\n",
       "      <td>0</td>\n",
       "      <td>0</td>\n",
       "      <td>0</td>\n",
       "      <td>0</td>\n",
       "      <td>0</td>\n",
       "      <td>0</td>\n",
       "      <td>0</td>\n",
       "      <td>0</td>\n",
       "    </tr>\n",
       "    <tr>\n",
       "      <th>2</th>\n",
       "      <td>3</td>\n",
       "      <td>Grumpier Old Men</td>\n",
       "      <td>1995</td>\n",
       "      <td>0</td>\n",
       "      <td>0</td>\n",
       "      <td>0</td>\n",
       "      <td>0</td>\n",
       "      <td>1</td>\n",
       "      <td>0</td>\n",
       "      <td>0</td>\n",
       "      <td>...</td>\n",
       "      <td>0</td>\n",
       "      <td>0</td>\n",
       "      <td>0</td>\n",
       "      <td>0</td>\n",
       "      <td>0</td>\n",
       "      <td>1</td>\n",
       "      <td>0</td>\n",
       "      <td>0</td>\n",
       "      <td>0</td>\n",
       "      <td>0</td>\n",
       "    </tr>\n",
       "    <tr>\n",
       "      <th>3</th>\n",
       "      <td>4</td>\n",
       "      <td>Waiting to Exhale</td>\n",
       "      <td>1995</td>\n",
       "      <td>0</td>\n",
       "      <td>0</td>\n",
       "      <td>0</td>\n",
       "      <td>0</td>\n",
       "      <td>1</td>\n",
       "      <td>0</td>\n",
       "      <td>0</td>\n",
       "      <td>...</td>\n",
       "      <td>0</td>\n",
       "      <td>0</td>\n",
       "      <td>0</td>\n",
       "      <td>0</td>\n",
       "      <td>0</td>\n",
       "      <td>0</td>\n",
       "      <td>0</td>\n",
       "      <td>0</td>\n",
       "      <td>0</td>\n",
       "      <td>0</td>\n",
       "    </tr>\n",
       "    <tr>\n",
       "      <th>4</th>\n",
       "      <td>5</td>\n",
       "      <td>Father of the Bride Part II</td>\n",
       "      <td>1995</td>\n",
       "      <td>0</td>\n",
       "      <td>0</td>\n",
       "      <td>0</td>\n",
       "      <td>0</td>\n",
       "      <td>1</td>\n",
       "      <td>0</td>\n",
       "      <td>0</td>\n",
       "      <td>...</td>\n",
       "      <td>0</td>\n",
       "      <td>0</td>\n",
       "      <td>0</td>\n",
       "      <td>0</td>\n",
       "      <td>0</td>\n",
       "      <td>0</td>\n",
       "      <td>0</td>\n",
       "      <td>0</td>\n",
       "      <td>0</td>\n",
       "      <td>0</td>\n",
       "    </tr>\n",
       "  </tbody>\n",
       "</table>\n",
       "<p>5 rows × 21 columns</p>\n",
       "</div>"
      ],
      "text/plain": [
       "   MovieID                        Title release_year  Action  Adventure  \\\n",
       "0        1                    Toy Story         1995       0          0   \n",
       "1        2                      Jumanji         1995       0          1   \n",
       "2        3             Grumpier Old Men         1995       0          0   \n",
       "3        4            Waiting to Exhale         1995       0          0   \n",
       "4        5  Father of the Bride Part II         1995       0          0   \n",
       "\n",
       "   Animation  Children's  Comedy  Crime  Documentary  ...  Fantasy  Film-Noir  \\\n",
       "0          1           1       1      0            0  ...        0          0   \n",
       "1          0           1       0      0            0  ...        1          0   \n",
       "2          0           0       1      0            0  ...        0          0   \n",
       "3          0           0       1      0            0  ...        0          0   \n",
       "4          0           0       1      0            0  ...        0          0   \n",
       "\n",
       "   Horror  Musical  Mystery  Romance  Sci-Fi  Thriller  War  Western  \n",
       "0       0        0        0        0       0         0    0        0  \n",
       "1       0        0        0        0       0         0    0        0  \n",
       "2       0        0        0        1       0         0    0        0  \n",
       "3       0        0        0        0       0         0    0        0  \n",
       "4       0        0        0        0       0         0    0        0  \n",
       "\n",
       "[5 rows x 21 columns]"
      ]
     },
     "execution_count": 32,
     "metadata": {},
     "output_type": "execute_result"
    }
   ],
   "source": [
    "new_meta.head()"
   ]
  },
  {
   "cell_type": "code",
   "execution_count": 66,
   "id": "279ba123",
   "metadata": {},
   "outputs": [
    {
     "data": {
      "text/plain": [
       "MovieID          int64\n",
       "Title           object\n",
       "release_year    object\n",
       "Action           int32\n",
       "Adventure        int32\n",
       "Animation        int32\n",
       "Children's       int32\n",
       "Comedy           int32\n",
       "Crime            int32\n",
       "Documentary      int32\n",
       "Drama            int32\n",
       "Fantasy          int32\n",
       "Film-Noir        int32\n",
       "Horror           int32\n",
       "Musical          int32\n",
       "Mystery          int32\n",
       "Romance          int32\n",
       "Sci-Fi           int32\n",
       "Thriller         int32\n",
       "War              int32\n",
       "Western          int32\n",
       "dtype: object"
      ]
     },
     "execution_count": 66,
     "metadata": {},
     "output_type": "execute_result"
    }
   ],
   "source": [
    "new_meta.dtypes"
   ]
  },
  {
   "cell_type": "code",
   "execution_count": 38,
   "id": "89df7e7c",
   "metadata": {},
   "outputs": [],
   "source": [
    "genre_sum = genre_transform.sum()\n",
    "genre_sum.sort_values(inplace=True)"
   ]
  },
  {
   "cell_type": "code",
   "execution_count": 39,
   "id": "4b6ff0a6",
   "metadata": {},
   "outputs": [
    {
     "data": {
      "image/png": "[encoded data removed]",
      "text/plain": [
       "<Figure size 720x576 with 1 Axes>"
      ]
     },
     "metadata": {
      "needs_background": "light"
     },
     "output_type": "display_data"
    }
   ],
   "source": [
    "plt.figure(figsize=(10,8))\n",
    "sns.barplot(x=genre_sum.values, y=genre_sum.index)\n",
    "plt.title(\"Distribution of genres in movielens 1M\")\n",
    "plt.show()"
   ]
  },
  {
   "cell_type": "code",
   "execution_count": 45,
   "id": "c69b8380",
   "metadata": {},
   "outputs": [
    {
     "data": {
      "image/png": "[encoded data removed]",
      "text/plain": [
       "<Figure size 720x576 with 1 Axes>"
      ]
     },
     "metadata": {
      "needs_background": "light"
     },
     "output_type": "display_data"
    }
   ],
   "source": [
    "genres_per_item = genre_transform.sum(axis=1).value_counts()\n",
    "plt.figure(figsize=(10,8))\n",
    "sns.barplot(x=genres_per_item.index, y=genres_per_item.values)\n",
    "plt.title(\"Distribution of genres per movie\")\n",
    "plt.show()"
   ]
  },
  {
   "cell_type": "code",
   "execution_count": 28,
   "id": "ce152781",
   "metadata": {},
   "outputs": [],
   "source": [
    "from scipy.sparse import csr_matrix\n",
    "class BaseEncoder:\n",
    "    \n",
    "    def _fit(self, data):\n",
    "        pass\n",
    "    \n",
    "    def fit(self, data, return_type=\"sparse\"):\n",
    "        array = self._fit(data)\n",
    "        if return_type == 'sparse':\n",
    "            return csr_matrix(array)\n",
    "        elif return_type == 'dataframe':\n",
    "            cols = self.classes\n",
    "            idx = self.index\n",
    "            return pd.DataFrame(array, columns=cols, index=idx)\n",
    "        else:\n",
    "            return array\n",
    "        \n",
    "    def __call__(self, data, return_type='sparse'):\n",
    "        return self.fit(data, return_type)"
   ]
  },
  {
   "cell_type": "code",
   "execution_count": 30,
   "id": "52294864",
   "metadata": {},
   "outputs": [],
   "source": [
    "from sklearn.feature_extraction.text import TfidfVectorizer\n",
    "class TfidfEncoder(BaseEncoder):\n",
    "    \n",
    "    def __init__(self, **kwargs):\n",
    "        self.engine = TfidfVectorizer(max_features=100)\n",
    "        \n",
    "    def _fit(self, data):\n",
    "        arr = self.engine.fit_transform(data)\n",
    "        self.classes = [f\"col_{x}\" for x in  range(self.engine.max_features)]\n",
    "        if not hasattr(data, \"index\"):\n",
    "            self.index = list(range(len(data)))\n",
    "        else:\n",
    "            self.index = data.index.copy()\n",
    "        return arr"
   ]
  },
  {
   "cell_type": "code",
   "execution_count": 31,
   "id": "f3a815f5",
   "metadata": {},
   "outputs": [],
   "source": [
    "from sklearn.preprocessing import OneHotEncoder, LabelBinarizer"
   ]
  },
  {
   "cell_type": "code",
   "execution_count": 32,
   "id": "1d349798",
   "metadata": {},
   "outputs": [],
   "source": [
    "class CategoriEncoder(BaseEncoder):\n",
    "    \n",
    "    def __init__(self, **kwargs):\n",
    "        self.engine = LabelBinarizer()\n",
    "        \n",
    "    def _fit(self, data):\n",
    "        arr = self.engine.fit_transform(data)\n",
    "        self.classes = self.engine.classes_\n",
    "        if not hasattr(data, \"index\"):\n",
    "            self.index = list(range(len(data)))\n",
    "        else:\n",
    "            self.index = data.index.copy()\n",
    "        return arr\n",
    "    \n",
    "class ListEncoder(BaseEncoder):\n",
    "    \n",
    "    def __init__(self, **kwargs):\n",
    "        self.engine = MultiLabelBinarizer()\n",
    "        \n",
    "    def _fit(self, data):\n",
    "        arr = self.engine.fit_transform(data)\n",
    "        self.classes = self.engine.classes_\n",
    "        if not hasattr(data, \"index\"):\n",
    "            self.index = list(range(len(data)))\n",
    "        else:\n",
    "            self.index = data.index.copy()\n",
    "        return arr"
   ]
  },
  {
   "cell_type": "code",
   "execution_count": 114,
   "id": "56dd7219",
   "metadata": {},
   "outputs": [],
   "source": [
    "lencoder = ListEncoder()\n",
    "cencoder = CategoriEncoder()\n",
    "tencoder = TfidfEncoder()"
   ]
  },
  {
   "cell_type": "code",
   "execution_count": 121,
   "id": "438deed4",
   "metadata": {},
   "outputs": [],
   "source": [
    "# lencoder(meta.release_year, return_type='dataframe')"
   ]
  },
  {
   "cell_type": "code",
   "execution_count": 115,
   "id": "a8236aaa",
   "metadata": {},
   "outputs": [
    {
     "data": {
      "text/plain": [
       "<3883x127 sparse matrix of type '<class 'numpy.intc'>'\n",
       "\twith 3883 stored elements in Compressed Sparse Row format>"
      ]
     },
     "execution_count": 115,
     "metadata": {},
     "output_type": "execute_result"
    }
   ],
   "source": [
    "cencoder(meta.release_year.astype(int))"
   ]
  },
  {
   "cell_type": "code",
   "execution_count": 116,
   "id": "b2584b91",
   "metadata": {
    "scrolled": true
   },
   "outputs": [
    {
     "data": {
      "text/plain": [
       "<3883x100 sparse matrix of type '<class 'numpy.float64'>'\n",
       "\twith 3847 stored elements in Compressed Sparse Row format>"
      ]
     },
     "execution_count": 116,
     "metadata": {},
     "output_type": "execute_result"
    }
   ],
   "source": [
    "tencoder(meta.Title)"
   ]
  },
  {
   "cell_type": "code",
   "execution_count": 41,
   "id": "8361eca6",
   "metadata": {},
   "outputs": [],
   "source": [
    "from sklearn.metrics.pairwise import cosine_similarity"
   ]
  },
  {
   "cell_type": "code",
   "execution_count": null,
   "id": "5fca3eb2",
   "metadata": {},
   "outputs": [],
   "source": [
    "cosine_similarity()"
   ]
  },
  {
   "cell_type": "code",
   "execution_count": 33,
   "id": "cc33de90",
   "metadata": {},
   "outputs": [],
   "source": [
    "cb_cfg = {\n",
    "    \"id_col\": \"MovieID\",\n",
    "    \"text_cols\": [\"Title\"],\n",
    "    \"categorical_cols\": ['release_year'],\n",
    "    \"list_cols\": [\"Genres\"]\n",
    "}"
   ]
  },
  {
   "cell_type": "code",
   "execution_count": 116,
   "id": "7a64c9c4",
   "metadata": {},
   "outputs": [
    {
     "data": {
      "text/plain": [
       "0"
      ]
     },
     "execution_count": 116,
     "metadata": {},
     "output_type": "execute_result"
    }
   ],
   "source": [
    "len([])"
   ]
  },
  {
   "cell_type": "code",
   "execution_count": 117,
   "id": "cdff26e5",
   "metadata": {},
   "outputs": [],
   "source": [
    "class ContentBased:\n",
    "    \n",
    "    def __init__(self, similarity='cosine'):\n",
    "        self.similarity = similarity\n",
    "        self.simi_matrix = np.array([])\n",
    "        self.categorical_encoder = CategoriEncoder()\n",
    "        self.text_encoder = TfidfEncoder()\n",
    "        self.list_encoder = ListEncoder()\n",
    "        self.item_index_map = {}\n",
    "        self.item_id = []\n",
    "        \n",
    "    @staticmethod\n",
    "    def cosine_similarity(arr):\n",
    "        return cosine_similarity(arr)\n",
    "    \n",
    "    def recommend(self, iid, k=10):\n",
    "        \n",
    "        # Check if model not fitted\n",
    "        if self.simi_matrix.size == 0:\n",
    "            raise NotImplementedError(f\"Model not fit yet\")\n",
    "\n",
    "        idx = self.item_index_map.get(iid)\n",
    "        if idx is None:\n",
    "            return {}\n",
    "        item_vector = self.simi_matrix[idx]\n",
    "        top = np.argsort(item_vector)[::-1][:k]\n",
    "        item_rec = [self.item_id[x] for x in top]\n",
    "        return (np.array(item_rec), item_vector[top])\n",
    "        \n",
    "    def fit(self, data, config):\n",
    "        self.item_id = data[config['id_col']]\n",
    "        self.item_index_map = {v:k for k,v in self.item_id.to_dict().items()}\n",
    "        self.text_features = config['text_cols']\n",
    "        self.cate_features = config['categorical_cols']\n",
    "        self.list_features = config['list_cols']\n",
    "        self.n_feartures = len(self.text_features) + \\\n",
    "                            len(self.cate_features) + \\\n",
    "                            len(self.list_features)\n",
    "        \n",
    "        self.simi_matrix = np.zeros((len(data), len(data)))\n",
    "        \n",
    "        if self.text_features:\n",
    "            for cols in self.text_features:\n",
    "                s_arr = self.cosine_similarity(self.text_encoder(data[cols]))\n",
    "                self.simi_matrix += s_arr\n",
    "        if self.cate_features:\n",
    "            for cols in self.cate_features:\n",
    "                s_arr = self.cosine_similarity(self.categorical_encoder(data[cols]))\n",
    "                self.simi_matrix += s_arr\n",
    "        if self.list_features:\n",
    "            for cols in self.list_features:\n",
    "                s_arr = self.cosine_similarity(self.list_encoder(data[cols]))\n",
    "                self.simi_matrix += s_arr\n",
    "                \n",
    "        self.simi_matrix /= self.n_feartures\n",
    "        print(\"Done!!!\")"
   ]
  },
  {
   "cell_type": "code",
   "execution_count": 37,
   "id": "bdb696e7",
   "metadata": {},
   "outputs": [],
   "source": [
    "data1 = pd.read_json(\"ml-1m/metadata.json\")"
   ]
  },
  {
   "cell_type": "code",
   "execution_count": 38,
   "id": "c206ea10",
   "metadata": {},
   "outputs": [
    {
     "data": {
      "text/html": [
       "<div>\n",
       "<style scoped>\n",
       "    .dataframe tbody tr th:only-of-type {\n",
       "        vertical-align: middle;\n",
       "    }\n",
       "\n",
       "    .dataframe tbody tr th {\n",
       "        vertical-align: top;\n",
       "    }\n",
       "\n",
       "    .dataframe thead th {\n",
       "        text-align: right;\n",
       "    }\n",
       "</style>\n",
       "<table border=\"1\" class=\"dataframe\">\n",
       "  <thead>\n",
       "    <tr style=\"text-align: right;\">\n",
       "      <th></th>\n",
       "      <th>MovieID</th>\n",
       "      <th>Title</th>\n",
       "      <th>Genres</th>\n",
       "      <th>release_year</th>\n",
       "    </tr>\n",
       "  </thead>\n",
       "  <tbody>\n",
       "    <tr>\n",
       "      <th>0</th>\n",
       "      <td>1</td>\n",
       "      <td>Toy Story</td>\n",
       "      <td>[Animation, Children's, Comedy]</td>\n",
       "      <td>1995</td>\n",
       "    </tr>\n",
       "    <tr>\n",
       "      <th>1</th>\n",
       "      <td>2</td>\n",
       "      <td>Jumanji</td>\n",
       "      <td>[Adventure, Children's, Fantasy]</td>\n",
       "      <td>1995</td>\n",
       "    </tr>\n",
       "    <tr>\n",
       "      <th>2</th>\n",
       "      <td>3</td>\n",
       "      <td>Grumpier Old Men</td>\n",
       "      <td>[Comedy, Romance]</td>\n",
       "      <td>1995</td>\n",
       "    </tr>\n",
       "    <tr>\n",
       "      <th>3</th>\n",
       "      <td>4</td>\n",
       "      <td>Waiting to Exhale</td>\n",
       "      <td>[Comedy, Drama]</td>\n",
       "      <td>1995</td>\n",
       "    </tr>\n",
       "    <tr>\n",
       "      <th>4</th>\n",
       "      <td>5</td>\n",
       "      <td>Father of the Bride Part II</td>\n",
       "      <td>[Comedy]</td>\n",
       "      <td>1995</td>\n",
       "    </tr>\n",
       "    <tr>\n",
       "      <th>...</th>\n",
       "      <td>...</td>\n",
       "      <td>...</td>\n",
       "      <td>...</td>\n",
       "      <td>...</td>\n",
       "    </tr>\n",
       "    <tr>\n",
       "      <th>3878</th>\n",
       "      <td>3948</td>\n",
       "      <td>Meet the Parents</td>\n",
       "      <td>[Comedy]</td>\n",
       "      <td>2000</td>\n",
       "    </tr>\n",
       "    <tr>\n",
       "      <th>3879</th>\n",
       "      <td>3949</td>\n",
       "      <td>Requiem for a Dream</td>\n",
       "      <td>[Drama]</td>\n",
       "      <td>2000</td>\n",
       "    </tr>\n",
       "    <tr>\n",
       "      <th>3880</th>\n",
       "      <td>3950</td>\n",
       "      <td>Tigerland</td>\n",
       "      <td>[Drama]</td>\n",
       "      <td>2000</td>\n",
       "    </tr>\n",
       "    <tr>\n",
       "      <th>3881</th>\n",
       "      <td>3951</td>\n",
       "      <td>Two Family House</td>\n",
       "      <td>[Drama]</td>\n",
       "      <td>2000</td>\n",
       "    </tr>\n",
       "    <tr>\n",
       "      <th>3882</th>\n",
       "      <td>3952</td>\n",
       "      <td>Contender, The</td>\n",
       "      <td>[Drama, Thriller]</td>\n",
       "      <td>2000</td>\n",
       "    </tr>\n",
       "  </tbody>\n",
       "</table>\n",
       "<p>3883 rows × 4 columns</p>\n",
       "</div>"
      ],
      "text/plain": [
       "      MovieID                        Title                            Genres  \\\n",
       "0           1                    Toy Story   [Animation, Children's, Comedy]   \n",
       "1           2                      Jumanji  [Adventure, Children's, Fantasy]   \n",
       "2           3             Grumpier Old Men                 [Comedy, Romance]   \n",
       "3           4            Waiting to Exhale                   [Comedy, Drama]   \n",
       "4           5  Father of the Bride Part II                          [Comedy]   \n",
       "...       ...                          ...                               ...   \n",
       "3878     3948             Meet the Parents                          [Comedy]   \n",
       "3879     3949          Requiem for a Dream                           [Drama]   \n",
       "3880     3950                    Tigerland                           [Drama]   \n",
       "3881     3951             Two Family House                           [Drama]   \n",
       "3882     3952               Contender, The                 [Drama, Thriller]   \n",
       "\n",
       "      release_year  \n",
       "0             1995  \n",
       "1             1995  \n",
       "2             1995  \n",
       "3             1995  \n",
       "4             1995  \n",
       "...            ...  \n",
       "3878          2000  \n",
       "3879          2000  \n",
       "3880          2000  \n",
       "3881          2000  \n",
       "3882          2000  \n",
       "\n",
       "[3883 rows x 4 columns]"
      ]
     },
     "execution_count": 38,
     "metadata": {},
     "output_type": "execute_result"
    }
   ],
   "source": [
    "data1"
   ]
  },
  {
   "cell_type": "code",
   "execution_count": 113,
   "id": "70a0055c",
   "metadata": {},
   "outputs": [],
   "source": [
    "c = ContentBased()"
   ]
  },
  {
   "cell_type": "code",
   "execution_count": null,
   "id": "0ce5e47b",
   "metadata": {},
   "outputs": [],
   "source": []
  },
  {
   "cell_type": "code",
   "execution_count": 114,
   "id": "2ff14051",
   "metadata": {},
   "outputs": [
    {
     "data": {
      "text/plain": [
       "array([[1.        , 0.44444444, 0.4694161 , ..., 0.        , 0.        ,\n",
       "        0.        ],\n",
       "       [0.44444444, 0.66666667, 0.33333333, ..., 0.        , 0.        ,\n",
       "        0.        ],\n",
       "       [0.4694161 , 0.33333333, 1.        , ..., 0.        , 0.        ,\n",
       "        0.        ],\n",
       "       ...,\n",
       "       [0.        , 0.        , 0.        , ..., 0.66666667, 0.66666667,\n",
       "        0.56903559],\n",
       "       [0.        , 0.        , 0.        , ..., 0.66666667, 1.        ,\n",
       "        0.56903559],\n",
       "       [0.        , 0.        , 0.        , ..., 0.56903559, 0.56903559,\n",
       "        1.        ]])"
      ]
     },
     "execution_count": 114,
     "metadata": {},
     "output_type": "execute_result"
    }
   ],
   "source": [
    "c.fit(data1, cb_cfg)"
   ]
  },
  {
   "cell_type": "code",
   "execution_count": 105,
   "id": "cb82bdd9",
   "metadata": {},
   "outputs": [],
   "source": [
    "if c.item_index_map.get(1) is None:\n",
    "    print(\"a\")"
   ]
  },
  {
   "cell_type": "code",
   "execution_count": 78,
   "id": "dc504069",
   "metadata": {},
   "outputs": [],
   "source": [
    "idx = np.where(c.item_id == 1)[0]"
   ]
  },
  {
   "cell_type": "code",
   "execution_count": 98,
   "id": "e6abf387",
   "metadata": {},
   "outputs": [
    {
     "data": {
      "text/plain": [
       "array([   0,  292, 2205, 3045,  236,  876,   53,  241,   12,   33],\n",
       "      dtype=int64)"
      ]
     },
     "execution_count": 98,
     "metadata": {},
     "output_type": "execute_result"
    }
   ],
   "source": [
    "np.argsort(c.simi_matrix[0])[::-1][:10]"
   ]
  },
  {
   "cell_type": "code",
   "execution_count": 115,
   "id": "25f53553",
   "metadata": {},
   "outputs": [
    {
     "data": {
      "text/plain": [
       "([1, 295, 2274, 3114, 239, 888, 54, 244, 13, 34],\n",
       " array([1.        , 0.71846136, 0.66666667, 0.66666667, 0.62200847,\n",
       "        0.60549886, 0.60549886, 0.60549886, 0.60549886, 0.55555556]))"
      ]
     },
     "execution_count": 115,
     "metadata": {},
     "output_type": "execute_result"
    }
   ],
   "source": [
    "c.recommend(1)"
   ]
  },
  {
   "cell_type": "code",
   "execution_count": 3,
   "id": "6434bbc7",
   "metadata": {},
   "outputs": [],
   "source": [
    "import pandas as pd\n",
    "rating = pd.read_csv(\"data/ratings.dat\", delimiter=\"::\", names=['UserID',\"MovieID\", \"Rating\", \"Timestamp\"], engine='python')"
   ]
  },
  {
   "cell_type": "code",
   "execution_count": 125,
   "id": "e381e195",
   "metadata": {},
   "outputs": [
    {
     "data": {
      "text/plain": [
       "3706"
      ]
     },
     "execution_count": 125,
     "metadata": {},
     "output_type": "execute_result"
    }
   ],
   "source": [
    "rating.MovieID.nunique()"
   ]
  },
  {
   "cell_type": "code",
   "execution_count": 12,
   "id": "9f4709ed",
   "metadata": {},
   "outputs": [],
   "source": [
    "rating['user'] = pd.factorize(rating.UserID)[0]\n",
    "rating['item'] = pd.factorize(rating.MovieID)[0]"
   ]
  },
  {
   "cell_type": "code",
   "execution_count": 139,
   "id": "4d83696c",
   "metadata": {},
   "outputs": [],
   "source": [
    "# from sklearn.model_selection import train_test_split\n",
    "train, test = train_test_split(rating, test_size=0.05, shuffle=True)"
   ]
  },
  {
   "cell_type": "code",
   "execution_count": 141,
   "id": "24c24801",
   "metadata": {
    "scrolled": true
   },
   "outputs": [
    {
     "data": {
      "text/plain": [
       "True"
      ]
     },
     "execution_count": 141,
     "metadata": {},
     "output_type": "execute_result"
    }
   ],
   "source": [
    "test.UserID.isin(train.UserID).shape[0] == test.shape[0]"
   ]
  },
  {
   "cell_type": "code",
   "execution_count": 140,
   "id": "3ef85018",
   "metadata": {},
   "outputs": [
    {
     "data": {
      "text/html": [
       "<div>\n",
       "<style scoped>\n",
       "    .dataframe tbody tr th:only-of-type {\n",
       "        vertical-align: middle;\n",
       "    }\n",
       "\n",
       "    .dataframe tbody tr th {\n",
       "        vertical-align: top;\n",
       "    }\n",
       "\n",
       "    .dataframe thead th {\n",
       "        text-align: right;\n",
       "    }\n",
       "</style>\n",
       "<table border=\"1\" class=\"dataframe\">\n",
       "  <thead>\n",
       "    <tr style=\"text-align: right;\">\n",
       "      <th></th>\n",
       "      <th>UserID</th>\n",
       "      <th>MovieID</th>\n",
       "      <th>Rating</th>\n",
       "      <th>Timestamp</th>\n",
       "    </tr>\n",
       "  </thead>\n",
       "  <tbody>\n",
       "    <tr>\n",
       "      <th>736027</th>\n",
       "      <td>4401</td>\n",
       "      <td>908</td>\n",
       "      <td>5</td>\n",
       "      <td>965158524</td>\n",
       "    </tr>\n",
       "    <tr>\n",
       "      <th>489353</th>\n",
       "      <td>3012</td>\n",
       "      <td>2004</td>\n",
       "      <td>1</td>\n",
       "      <td>998072407</td>\n",
       "    </tr>\n",
       "    <tr>\n",
       "      <th>149393</th>\n",
       "      <td>962</td>\n",
       "      <td>2391</td>\n",
       "      <td>3</td>\n",
       "      <td>978233554</td>\n",
       "    </tr>\n",
       "    <tr>\n",
       "      <th>547283</th>\n",
       "      <td>3376</td>\n",
       "      <td>2826</td>\n",
       "      <td>2</td>\n",
       "      <td>967587865</td>\n",
       "    </tr>\n",
       "    <tr>\n",
       "      <th>896452</th>\n",
       "      <td>5420</td>\n",
       "      <td>1843</td>\n",
       "      <td>3</td>\n",
       "      <td>960156505</td>\n",
       "    </tr>\n",
       "    <tr>\n",
       "      <th>...</th>\n",
       "      <td>...</td>\n",
       "      <td>...</td>\n",
       "      <td>...</td>\n",
       "      <td>...</td>\n",
       "    </tr>\n",
       "    <tr>\n",
       "      <th>928047</th>\n",
       "      <td>5605</td>\n",
       "      <td>1057</td>\n",
       "      <td>3</td>\n",
       "      <td>959297849</td>\n",
       "    </tr>\n",
       "    <tr>\n",
       "      <th>252190</th>\n",
       "      <td>1527</td>\n",
       "      <td>3162</td>\n",
       "      <td>2</td>\n",
       "      <td>974744831</td>\n",
       "    </tr>\n",
       "    <tr>\n",
       "      <th>946769</th>\n",
       "      <td>5717</td>\n",
       "      <td>2360</td>\n",
       "      <td>5</td>\n",
       "      <td>958743515</td>\n",
       "    </tr>\n",
       "    <tr>\n",
       "      <th>120466</th>\n",
       "      <td>777</td>\n",
       "      <td>1393</td>\n",
       "      <td>2</td>\n",
       "      <td>975441456</td>\n",
       "    </tr>\n",
       "    <tr>\n",
       "      <th>466685</th>\n",
       "      <td>2878</td>\n",
       "      <td>2471</td>\n",
       "      <td>4</td>\n",
       "      <td>972361595</td>\n",
       "    </tr>\n",
       "  </tbody>\n",
       "</table>\n",
       "<p>50011 rows × 4 columns</p>\n",
       "</div>"
      ],
      "text/plain": [
       "        UserID  MovieID  Rating  Timestamp\n",
       "736027    4401      908       5  965158524\n",
       "489353    3012     2004       1  998072407\n",
       "149393     962     2391       3  978233554\n",
       "547283    3376     2826       2  967587865\n",
       "896452    5420     1843       3  960156505\n",
       "...        ...      ...     ...        ...\n",
       "928047    5605     1057       3  959297849\n",
       "252190    1527     3162       2  974744831\n",
       "946769    5717     2360       5  958743515\n",
       "120466     777     1393       2  975441456\n",
       "466685    2878     2471       4  972361595\n",
       "\n",
       "[50011 rows x 4 columns]"
      ]
     },
     "execution_count": 140,
     "metadata": {},
     "output_type": "execute_result"
    }
   ],
   "source": [
    "test"
   ]
  },
  {
   "cell_type": "code",
   "execution_count": null,
   "id": "c68f29b8",
   "metadata": {},
   "outputs": [],
   "source": [
    "def ensure_test_dataset(test_uid, train_uid):\n",
    "    return all()"
   ]
  },
  {
   "cell_type": "code",
   "execution_count": 142,
   "id": "7396fbef",
   "metadata": {},
   "outputs": [
    {
     "data": {
      "text/plain": [
       "UserID         6040\n",
       "MovieID        3516\n",
       "Rating            5\n",
       "Timestamp    192582\n",
       "user           6040\n",
       "item           3516\n",
       "dtype: int64"
      ]
     },
     "execution_count": 142,
     "metadata": {},
     "output_type": "execute_result"
    }
   ],
   "source": [
    "def split_data(data, frac=0.05):\n",
    "    while "
   ]
  },
  {
   "cell_type": "code",
   "execution_count": null,
   "id": "c6b2b3b5",
   "metadata": {},
   "outputs": [],
   "source": []
  },
  {
   "cell_type": "code",
   "execution_count": 1,
   "id": "2c00fa87",
   "metadata": {},
   "outputs": [],
   "source": [
    "from scipy import sparse\n",
    "import numpy as np\n",
    "class Dataset:\n",
    "    \n",
    "    def __init__(self, train_df, test_df=None, user='user', item='item', rating='rating', dtype=np.float32):\n",
    "        self._user = user\n",
    "        self._item = item\n",
    "        self._rating = rating\n",
    "        self.train_df = train_df\n",
    "        self.test_df = test_df\n",
    "    \n",
    "    @property\n",
    "    def user(self):\n",
    "        train_user = self.train_df[self._user]\n",
    "        test_user = self.test_df[self._user]\n",
    "        return pd.concat([train_user, test_user], ignore_index=True)\n",
    "    \n",
    "    @property\n",
    "    def item(self):\n",
    "        train_item = self.train_df[self._item]\n",
    "        test_item = self.test_df[self._item]\n",
    "        return pd.concat([train_item, test_item], ignore_index=True)\n",
    "    \n",
    "    @property\n",
    "    def rating(self):\n",
    "        return self.df[self._rating]\n",
    "    \n",
    "    def split_data(self):\n",
    "        pass\n",
    "        \n",
    "    def get_factorizer(self, attr='user'):\n",
    "        if attr not in ['user', 'item']:\n",
    "            raise ValueError(f\"Unknown attribute {attr}, only user, item was accepted\")\n",
    "        data = getattr(self, attr)\n",
    "        return pd.factorize(data)\n",
    "    \n",
    "    def transform_to_matrix(self):\n",
    "        user, self.user_list = self.get_factorizer(\"user\")\n",
    "        item, self.item_list = self.get_factorizer('item')\n",
    "        nuser = len(self.user_list)\n",
    "        nitem = len(self.item_list)\n",
    "        return sparse.coo_matrix(\n",
    "            (self.rating, (user, item)),\n",
    "            shape=(nuser, nitem)\n",
    "        )\n",
    "    \n",
    "    def get_csr(self):\n",
    "        return self.transform_to_matrix().tocsr()\n",
    "    \n",
    "    def get_csc(self):\n",
    "        return self.transform_to_matrix().tocsc()\n",
    "    \n",
    "    def get_user_history(self, uid):\n",
    "        res = {\"user id\": uid}\n",
    "        history = self.get_csr()\n",
    "        uidx = np.where(self.user_list == uid)[0][0]\n",
    "        list_idx_item = history[uidx].indices\n",
    "        item_id = self.item_list[list_idx_item]\n",
    "        res['item id watched'] = item_id\n",
    "        return res\n",
    "    \n",
    "    def get_item_history(self, iid):\n",
    "        res = {\"Item id\": iid}\n",
    "        history = self.get_csc()\n",
    "        iidx = np.where(self.item_list == iid)[0][0]\n",
    "        list_idx_user = history[:, iidx].indices\n",
    "        user_id = self.user_list[list_idx_user]\n",
    "        res['Users has been watch this item'] = user_id\n",
    "        return res"
   ]
  },
  {
   "cell_type": "code",
   "execution_count": 2,
   "id": "5ac16742",
   "metadata": {},
   "outputs": [],
   "source": [
    "from models.dataset import Dataset as ds"
   ]
  },
  {
   "cell_type": "code",
   "execution_count": 4,
   "id": "06ae7c57",
   "metadata": {},
   "outputs": [],
   "source": [
    "a = ds(rating, user=\"UserID\", item=\"MovieID\", rating=\"Rating\")"
   ]
  },
  {
   "cell_type": "code",
   "execution_count": 5,
   "id": "41a0fbf3",
   "metadata": {},
   "outputs": [
    {
     "data": {
      "text/plain": [
       "Int64Index([1193,  661,  914, 3408, 2355, 1197, 1287, 2804,  594,  919,  595,\n",
       "             938, 2398, 2918, 1035, 2791, 2687, 2018, 3105, 2797, 2321,  720,\n",
       "            1270,  527, 2340,   48, 1097, 1721, 1545,  745, 2294, 3186, 1566,\n",
       "             588, 1907,  783, 1836, 1022, 2762,  150,    1, 1961, 1962, 2692,\n",
       "             260, 1028, 1029, 1207, 2028,  531, 3114,  608, 1246],\n",
       "           dtype='int64')"
      ]
     },
     "execution_count": 5,
     "metadata": {},
     "output_type": "execute_result"
    }
   ],
   "source": [
    "a.get_user_history(1)['item id watched']"
   ]
  },
  {
   "cell_type": "code",
   "execution_count": 17,
   "id": "2a5827aa",
   "metadata": {},
   "outputs": [
    {
     "data": {
      "text/plain": [
       "Int64Index([   0,    1,   11,   14,   16,   17,   18,   23,   27,   32,\n",
       "            ...\n",
       "            6001, 6010, 6015, 6020, 6031, 6032, 6034, 6035, 6036, 6039],\n",
       "           dtype='int64', length=1725)"
      ]
     },
     "execution_count": 17,
     "metadata": {},
     "output_type": "execute_result"
    }
   ],
   "source": [
    "a.get_item_history(0)['Users has been watch this item']"
   ]
  },
  {
   "cell_type": "code",
   "execution_count": 19,
   "id": "a0798a84",
   "metadata": {},
   "outputs": [
    {
     "data": {
      "text/plain": [
       "array([   0,    1,   11, ..., 6035, 6036, 6039])"
      ]
     },
     "execution_count": 19,
     "metadata": {},
     "output_type": "execute_result"
    }
   ],
   "source": [
    "a.get_csc()[:, 0].indices"
   ]
  },
  {
   "cell_type": "code",
   "execution_count": 75,
   "id": "1cdc2d87",
   "metadata": {
    "scrolled": true
   },
   "outputs": [
    {
     "data": {
      "text/plain": [
       "(1000209,)"
      ]
     },
     "execution_count": 75,
     "metadata": {},
     "output_type": "execute_result"
    }
   ],
   "source": [
    "a.user_list.shape"
   ]
  },
  {
   "cell_type": "code",
   "execution_count": 28,
   "id": "725fdbdc",
   "metadata": {},
   "outputs": [],
   "source": [
    "nuser = rating.UserID.nunique()\n",
    "nitem = rating.MovieID.nunique()"
   ]
  },
  {
   "cell_type": "code",
   "execution_count": 31,
   "id": "07827c84",
   "metadata": {},
   "outputs": [],
   "source": [
    "matrix = sparse.coo_matrix((rating.Rating, (rating.user, rating.item)), \n",
    "                           shape=(nuser, nitem))"
   ]
  },
  {
   "cell_type": "code",
   "execution_count": 32,
   "id": "bc135d3a",
   "metadata": {},
   "outputs": [
    {
     "data": {
      "text/plain": [
       "<6040x3706 sparse matrix of type '<class 'numpy.int64'>'\n",
       "\twith 1000209 stored elements in COOrdinate format>"
      ]
     },
     "execution_count": 32,
     "metadata": {},
     "output_type": "execute_result"
    }
   ],
   "source": [
    "matrix"
   ]
  },
  {
   "cell_type": "code",
   "execution_count": 18,
   "id": "9954a191",
   "metadata": {},
   "outputs": [],
   "source": [
    "csr_rating = a.get_csr()"
   ]
  },
  {
   "cell_type": "code",
   "execution_count": 131,
   "id": "aa760300",
   "metadata": {},
   "outputs": [
    {
     "data": {
      "text/plain": [
       "array([      0,      53,     182, ...,  999745,  999868, 1000209],\n",
       "      dtype=int32)"
      ]
     },
     "execution_count": 131,
     "metadata": {},
     "output_type": "execute_result"
    }
   ],
   "source": [
    "csr_rating.indptr"
   ]
  },
  {
   "cell_type": "code",
   "execution_count": 132,
   "id": "925f5618",
   "metadata": {},
   "outputs": [
    {
     "data": {
      "text/plain": [
       "array([1712, 1098,   18,  177,  237,  218,    8,  556, 1526,  467],\n",
       "      dtype=int32)"
      ]
     },
     "execution_count": 132,
     "metadata": {},
     "output_type": "execute_result"
    }
   ],
   "source": [
    "np.random.choice(csr_rating.indices, size=10)"
   ]
  },
  {
   "cell_type": "code",
   "execution_count": 6,
   "id": "f037259e",
   "metadata": {},
   "outputs": [],
   "source": [
    "from implicit.als import AlternatingLeastSquares"
   ]
  },
  {
   "cell_type": "code",
   "execution_count": null,
   "id": "a1a57220",
   "metadata": {},
   "outputs": [],
   "source": [
    "class AlternatingLeastSquares1:\n",
    "    \n",
    "    def __init__(self, factors=100, num_threads=1, iterations=15):\n",
    "        self.als = AlternatingLeastSquares(factors=factors, \n",
    "                                           num_threads=num_threads, \n",
    "                                           iterations=iterations)\n",
    "        \n",
    "    \n",
    "    def fit(self, user_items):\n",
    "        self.als.fit(user_items)\n",
    "        \n",
    "    def "
   ]
  },
  {
   "cell_type": "code",
   "execution_count": 7,
   "id": "50efd898",
   "metadata": {},
   "outputs": [],
   "source": [
    "als = AlternatingLeastSquares(num_threads=1)"
   ]
  },
  {
   "cell_type": "code",
   "execution_count": 8,
   "id": "07e7f86d",
   "metadata": {},
   "outputs": [],
   "source": [
    "import os"
   ]
  },
  {
   "cell_type": "code",
   "execution_count": 9,
   "id": "27b1bbb6",
   "metadata": {},
   "outputs": [],
   "source": [
    "os.environ[\"MKL_NUM_THREADS\"] = \"1\""
   ]
  },
  {
   "cell_type": "code",
   "execution_count": 10,
   "id": "b12ea301",
   "metadata": {},
   "outputs": [
    {
     "data": {
      "application/vnd.jupyter.widget-view+json": {
       "model_id": "49639887bab04b5f869a51815d7a1b41",
       "version_major": 2,
       "version_minor": 0
      },
      "text/plain": [
       "  0%|          | 0/15 [00:00<?, ?it/s]"
      ]
     },
     "metadata": {},
     "output_type": "display_data"
    }
   ],
   "source": [
    "als.fit(a.get_csr())"
   ]
  },
  {
   "cell_type": "code",
   "execution_count": 13,
   "id": "63c078f0",
   "metadata": {
    "scrolled": true
   },
   "outputs": [
    {
     "data": {
      "text/plain": [
       "(3706, 100)"
      ]
     },
     "execution_count": 13,
     "metadata": {},
     "output_type": "execute_result"
    }
   ],
   "source": [
    "als.item_factors.shape"
   ]
  },
  {
   "cell_type": "code",
   "execution_count": 37,
   "id": "ce6550ef",
   "metadata": {
    "scrolled": false
   },
   "outputs": [
    {
     "data": {
      "text/plain": [
       "(array([390, 596, 105, 167, 207, 609, 280,  92, 632, 588]),\n",
       " array([1.150663  , 0.80094945, 0.7355205 , 0.7318083 , 0.7317914 ,\n",
       "        0.7206699 , 0.7202057 , 0.7002779 , 0.65813065, 0.65706336],\n",
       "       dtype=float32))"
      ]
     },
     "execution_count": 37,
     "metadata": {},
     "output_type": "execute_result"
    }
   ],
   "source": [
    "als.recommend(0, csr_rating[0])"
   ]
  },
  {
   "cell_type": "code",
   "execution_count": 31,
   "id": "bdea1e2b",
   "metadata": {},
   "outputs": [],
   "source": [
    "import pickle"
   ]
  },
  {
   "cell_type": "code",
   "execution_count": 32,
   "id": "56c49609",
   "metadata": {},
   "outputs": [],
   "source": [
    "with open(\"als_model.pkl\", \"wb\") as f:\n",
    "    pickle.dump(als, f, protocol=pickle.HIGHEST_PROTOCOL)\n",
    "    f.close()"
   ]
  },
  {
   "cell_type": "code",
   "execution_count": 33,
   "id": "47885374",
   "metadata": {},
   "outputs": [],
   "source": [
    "import implicit"
   ]
  },
  {
   "cell_type": "code",
   "execution_count": 34,
   "id": "f15c896e",
   "metadata": {},
   "outputs": [
    {
     "data": {
      "text/plain": [
       "False"
      ]
     },
     "execution_count": 34,
     "metadata": {},
     "output_type": "execute_result"
    }
   ],
   "source": [
    "implicit.gpu.HAS_CUDA"
   ]
  },
  {
   "cell_type": "code",
   "execution_count": 142,
   "id": "bf450c5e",
   "metadata": {},
   "outputs": [],
   "source": [
    "x1 = np.random.randint(0, 5, size=(5,5))\n",
    "x2 = np.random.randint(0, 5, size=(4,5))"
   ]
  },
  {
   "cell_type": "code",
   "execution_count": 154,
   "id": "950bc0ba",
   "metadata": {},
   "outputs": [],
   "source": [
    "x3 = np.random.randint(0, 5, size=(2,3))"
   ]
  },
  {
   "cell_type": "code",
   "execution_count": 156,
   "id": "8ea2823d",
   "metadata": {},
   "outputs": [
    {
     "data": {
      "text/plain": [
       "array([[2, 3, 1],\n",
       "       [0, 2, 1]])"
      ]
     },
     "execution_count": 156,
     "metadata": {},
     "output_type": "execute_result"
    }
   ],
   "source": [
    "x3"
   ]
  },
  {
   "cell_type": "code",
   "execution_count": 159,
   "id": "56228adc",
   "metadata": {},
   "outputs": [
    {
     "data": {
      "text/plain": [
       "array([[0, 4, 1],\n",
       "       [2, 0, 1]])"
      ]
     },
     "execution_count": 159,
     "metadata": {},
     "output_type": "execute_result"
    }
   ],
   "source": [
    "np.take(x1, x3)"
   ]
  },
  {
   "cell_type": "code",
   "execution_count": 148,
   "id": "234b2413",
   "metadata": {},
   "outputs": [
    {
     "data": {
      "text/plain": [
       "array([[2, 1, 0, 4, 1],\n",
       "       [2, 2, 0, 0, 4],\n",
       "       [3, 3, 4, 2, 2],\n",
       "       [4, 2, 3, 4, 0],\n",
       "       [0, 2, 1, 2, 1]])"
      ]
     },
     "execution_count": 148,
     "metadata": {},
     "output_type": "execute_result"
    }
   ],
   "source": [
    "x1"
   ]
  },
  {
   "cell_type": "code",
   "execution_count": 151,
   "id": "71124765",
   "metadata": {},
   "outputs": [],
   "source": [
    "from sklearn.metrics import mean_squared_error"
   ]
  },
  {
   "cell_type": "code",
   "execution_count": 154,
   "id": "5e301b73",
   "metadata": {},
   "outputs": [
    {
     "data": {
      "text/plain": [
       "2.95"
      ]
     },
     "execution_count": 154,
     "metadata": {},
     "output_type": "execute_result"
    }
   ],
   "source": [
    "mean_squared_error(x1[:4], x2)"
   ]
  },
  {
   "cell_type": "code",
   "execution_count": 164,
   "id": "1e808572",
   "metadata": {},
   "outputs": [],
   "source": [
    "yhat = np.round(als.user_factors.dot(als.item_factors.T), 2)"
   ]
  },
  {
   "cell_type": "code",
   "execution_count": 166,
   "id": "5c30b522",
   "metadata": {},
   "outputs": [
    {
     "data": {
      "text/plain": [
       "0.43916639168422966"
      ]
     },
     "execution_count": 166,
     "metadata": {},
     "output_type": "execute_result"
    }
   ],
   "source": [
    "mean_squared_error(yhat, csr_rating.toarray())"
   ]
  },
  {
   "cell_type": "code",
   "execution_count": 168,
   "id": "9a17990e",
   "metadata": {},
   "outputs": [
    {
     "data": {
      "text/plain": [
       "array([[5, 3, 3, ..., 0, 0, 0]], dtype=int64)"
      ]
     },
     "execution_count": 168,
     "metadata": {},
     "output_type": "execute_result"
    }
   ],
   "source": [
    "def evaluate(model, test):\n",
    "    "
   ]
  },
  {
   "cell_type": "code",
   "execution_count": 18,
   "id": "740b7291",
   "metadata": {},
   "outputs": [],
   "source": [
    "df = pd.read_csv(\"./data/rating.csv\", index_col=0)"
   ]
  },
  {
   "cell_type": "code",
   "execution_count": 19,
   "id": "5f0850fa",
   "metadata": {},
   "outputs": [
    {
     "data": {
      "text/html": [
       "<div>\n",
       "<style scoped>\n",
       "    .dataframe tbody tr th:only-of-type {\n",
       "        vertical-align: middle;\n",
       "    }\n",
       "\n",
       "    .dataframe tbody tr th {\n",
       "        vertical-align: top;\n",
       "    }\n",
       "\n",
       "    .dataframe thead th {\n",
       "        text-align: right;\n",
       "    }\n",
       "</style>\n",
       "<table border=\"1\" class=\"dataframe\">\n",
       "  <thead>\n",
       "    <tr style=\"text-align: right;\">\n",
       "      <th></th>\n",
       "      <th>UserID</th>\n",
       "      <th>MovieID</th>\n",
       "      <th>Rating</th>\n",
       "    </tr>\n",
       "  </thead>\n",
       "  <tbody>\n",
       "    <tr>\n",
       "      <th>0</th>\n",
       "      <td>1</td>\n",
       "      <td>1193</td>\n",
       "      <td>5</td>\n",
       "    </tr>\n",
       "    <tr>\n",
       "      <th>1</th>\n",
       "      <td>1</td>\n",
       "      <td>661</td>\n",
       "      <td>3</td>\n",
       "    </tr>\n",
       "    <tr>\n",
       "      <th>2</th>\n",
       "      <td>1</td>\n",
       "      <td>914</td>\n",
       "      <td>3</td>\n",
       "    </tr>\n",
       "    <tr>\n",
       "      <th>3</th>\n",
       "      <td>1</td>\n",
       "      <td>3408</td>\n",
       "      <td>4</td>\n",
       "    </tr>\n",
       "    <tr>\n",
       "      <th>4</th>\n",
       "      <td>1</td>\n",
       "      <td>2355</td>\n",
       "      <td>5</td>\n",
       "    </tr>\n",
       "    <tr>\n",
       "      <th>...</th>\n",
       "      <td>...</td>\n",
       "      <td>...</td>\n",
       "      <td>...</td>\n",
       "    </tr>\n",
       "    <tr>\n",
       "      <th>1000204</th>\n",
       "      <td>6040</td>\n",
       "      <td>1091</td>\n",
       "      <td>1</td>\n",
       "    </tr>\n",
       "    <tr>\n",
       "      <th>1000205</th>\n",
       "      <td>6040</td>\n",
       "      <td>1094</td>\n",
       "      <td>5</td>\n",
       "    </tr>\n",
       "    <tr>\n",
       "      <th>1000206</th>\n",
       "      <td>6040</td>\n",
       "      <td>562</td>\n",
       "      <td>5</td>\n",
       "    </tr>\n",
       "    <tr>\n",
       "      <th>1000207</th>\n",
       "      <td>6040</td>\n",
       "      <td>1096</td>\n",
       "      <td>4</td>\n",
       "    </tr>\n",
       "    <tr>\n",
       "      <th>1000208</th>\n",
       "      <td>6040</td>\n",
       "      <td>1097</td>\n",
       "      <td>4</td>\n",
       "    </tr>\n",
       "  </tbody>\n",
       "</table>\n",
       "<p>1000209 rows × 3 columns</p>\n",
       "</div>"
      ],
      "text/plain": [
       "         UserID  MovieID  Rating\n",
       "0             1     1193       5\n",
       "1             1      661       3\n",
       "2             1      914       3\n",
       "3             1     3408       4\n",
       "4             1     2355       5\n",
       "...         ...      ...     ...\n",
       "1000204    6040     1091       1\n",
       "1000205    6040     1094       5\n",
       "1000206    6040      562       5\n",
       "1000207    6040     1096       4\n",
       "1000208    6040     1097       4\n",
       "\n",
       "[1000209 rows x 3 columns]"
      ]
     },
     "execution_count": 19,
     "metadata": {},
     "output_type": "execute_result"
    }
   ],
   "source": [
    "df"
   ]
  },
  {
   "cell_type": "code",
   "execution_count": null,
   "id": "ac7a47fd",
   "metadata": {},
   "outputs": [],
   "source": []
  }
 ],
 "metadata": {
  "kernelspec": {
   "display_name": "Python 3 (ipykernel)",
   "language": "python",
   "name": "python3"
  },
  "language_info": {
   "codemirror_mode": {
    "name": "ipython",
    "version": 3
   },
   "file_extension": ".py",
   "mimetype": "text/x-python",
   "name": "python",
   "nbconvert_exporter": "python",
   "pygments_lexer": "ipython3",
   "version": "3.9.12"
  }
 },
 "nbformat": 4,
 "nbformat_minor": 5
}
